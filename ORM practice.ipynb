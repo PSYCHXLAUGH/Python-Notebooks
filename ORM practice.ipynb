{
 "cells": [
  {
   "cell_type": "code",
   "execution_count": 76,
   "id": "0960500f",
   "metadata": {},
   "outputs": [],
   "source": [
    "# DOC https://docs.djangoproject.com/en/4.2/ref/models/querysets/\n",
    "\n",
    "from django.db import models\n",
    "from paper.models import *"
   ]
  },
  {
   "cell_type": "code",
   "execution_count": 10,
   "id": "868def86",
   "metadata": {},
   "outputs": [],
   "source": [
    "# fix notebook\n",
    "\n",
    "import os, django\n",
    "os.environ.setdefault('DJANGO_SETTINGS_MODULE', 'rest.settings')\n",
    "os.environ[\"DJANGO_ALLOW_ASYNC_UNSAFE\"] = \"true\"\n",
    "django.setup()"
   ]
  },
  {
   "cell_type": "code",
   "execution_count": 12,
   "id": "2d076cdf",
   "metadata": {},
   "outputs": [],
   "source": [
    "from django.db import models\n",
    "from paper.models import *"
   ]
  },
  {
   "cell_type": "code",
   "execution_count": 28,
   "id": "f42f6037",
   "metadata": {},
   "outputs": [
    {
     "name": "stdout",
     "output_type": "stream",
     "text": [
      "<QuerySet [<Paper: покамир>, <Paper: приветмир>]>\n",
      "('SELECT \"paper_paper\".\"id\", \"paper_paper\".\"title\", \"paper_paper\".\"slug\", '\n",
      " '\"paper_paper\".\"content\", \"paper_paper\".\"photo\", \"paper_paper\".\"time_create\", '\n",
      " '\"paper_paper\".\"time_update\", \"paper_paper\".\"is_published\", '\n",
      " '\"paper_paper\".\"cat_id\" FROM \"paper_paper\" ORDER BY '\n",
      " '\"paper_paper\".\"time_create\" DESC, \"paper_paper\".\"title\" ASC LIMIT 21')\n"
     ]
    }
   ],
   "source": [
    "# выборка всех записей из таблицы paper\n",
    "print(Paper.objects.all())\n",
    "from django.db import connection\n",
    "pprint(connection.queries[-1]['sql'])"
   ]
  },
  {
   "cell_type": "code",
   "execution_count": 29,
   "id": "984a765b",
   "metadata": {},
   "outputs": [
    {
     "name": "stdout",
     "output_type": "stream",
     "text": [
      "<QuerySet [<Paper: покамир>]>\n",
      "('SELECT \"paper_paper\".\"id\", \"paper_paper\".\"title\", \"paper_paper\".\"slug\", '\n",
      " '\"paper_paper\".\"content\", \"paper_paper\".\"photo\", \"paper_paper\".\"time_create\", '\n",
      " '\"paper_paper\".\"time_update\", \"paper_paper\".\"is_published\", '\n",
      " '\"paper_paper\".\"cat_id\" FROM \"paper_paper\" ORDER BY '\n",
      " '\"paper_paper\".\"time_create\" DESC, \"paper_paper\".\"title\" ASC LIMIT 1')\n"
     ]
    }
   ],
   "source": [
    "# выборка срезом записей из таблицы Paper\n",
    "print(Paper.objects.all()[0:1])\n",
    "from django.db import connection\n",
    "pprint(connection.queries[-1]['sql'])"
   ]
  },
  {
   "cell_type": "code",
   "execution_count": 31,
   "id": "8c2b024c",
   "metadata": {},
   "outputs": [
    {
     "data": {
      "text/plain": [
       "<QuerySet [<Paper: приветмир>, <Paper: покамир>]>"
      ]
     },
     "execution_count": 31,
     "metadata": {},
     "output_type": "execute_result"
    }
   ],
   "source": [
    "# Сортировка записей по первичному ключу \n",
    "Paper.objects.order_by('pk')"
   ]
  },
  {
   "cell_type": "code",
   "execution_count": 32,
   "id": "a36a635b",
   "metadata": {
    "scrolled": false
   },
   "outputs": [
    {
     "data": {
      "text/plain": [
       "<QuerySet [<Paper: покамир>, <Paper: приветмир>]>"
      ]
     },
     "execution_count": 32,
     "metadata": {},
     "output_type": "execute_result"
    }
   ],
   "source": [
    "# обратный порядок сортировки записей по первичному ключу\n",
    "Paper.objects.order_by('-pk')"
   ]
  },
  {
   "cell_type": "code",
   "execution_count": 41,
   "id": "29abad18",
   "metadata": {},
   "outputs": [
    {
     "name": "stdout",
     "output_type": "stream",
     "text": [
      "<QuerySet [<Paper: приветмир>, <Paper: покамир>]> <QuerySet [<Paper: приветмир>, <Paper: покамир>]>\n"
     ]
    }
   ],
   "source": [
    "# обратный порядок сортировки записей по первичному ключу (метод revese)\n",
    "print(Paper.objects.all().reverse(), Paper.objects.order_by('-pk').reverse())"
   ]
  },
  {
   "cell_type": "code",
   "execution_count": 44,
   "id": "4defb34c",
   "metadata": {},
   "outputs": [
    {
     "data": {
      "text/plain": [
       "<QuerySet [<Paper: приветмир>]>"
      ]
     },
     "execution_count": 44,
     "metadata": {},
     "output_type": "execute_result"
    }
   ],
   "source": [
    "# Выборка записей по ключу у которых ключ pk меньше либо равен 17\n",
    "Paper.objects.filter(pk__lte=17)"
   ]
  },
  {
   "cell_type": "code",
   "execution_count": 50,
   "id": "fd414af2",
   "metadata": {},
   "outputs": [
    {
     "data": {
      "text/plain": [
       "<Paper: покамир>"
      ]
     },
     "execution_count": 50,
     "metadata": {},
     "output_type": "execute_result"
    }
   ],
   "source": [
    "# Выборка одной записи по ключу\n",
    "item = Paper.objects.get(pk=18)\n",
    "item"
   ]
  },
  {
   "cell_type": "code",
   "execution_count": 54,
   "id": "9f4521c3",
   "metadata": {},
   "outputs": [
    {
     "data": {
      "text/plain": [
       "<Categories: вторая>"
      ]
     },
     "execution_count": 54,
     "metadata": {},
     "output_type": "execute_result"
    }
   ],
   "source": [
    "# item.row - значения записей таблицы Paper\n",
    "# item.cat - объект класса Categories хранящий данные cat_id\n",
    "item.cat"
   ]
  },
  {
   "cell_type": "code",
   "execution_count": 55,
   "id": "26c1dab8",
   "metadata": {},
   "outputs": [
    {
     "data": {
      "text/plain": [
       "'покамир'"
      ]
     },
     "execution_count": 55,
     "metadata": {},
     "output_type": "execute_result"
    }
   ],
   "source": [
    "item.title"
   ]
  },
  {
   "cell_type": "code",
   "execution_count": 74,
   "id": "816ddef2",
   "metadata": {},
   "outputs": [
    {
     "data": {
      "text/plain": [
       "<QuerySet [<Paper: приветмир>]>"
      ]
     },
     "execution_count": 74,
     "metadata": {},
     "output_type": "execute_result"
    }
   ],
   "source": [
    "# Задача: Вывести все записи, которые относятся к категории \"первая\"\n",
    "\n",
    "# Получаем объект категории\n",
    "category = Categories.objects.get(pk=5)\n",
    "# выводим список всех картегорий которые относятся к первой\n",
    "category.paper_set.all()\n",
    "\n",
    "# paper_set - можно поменять, если добавить в kwarg внутри модели Categories полю cat имя related_name='ur_name'"
   ]
  },
  {
   "cell_type": "code",
   "execution_count": 80,
   "id": "208ca2e8",
   "metadata": {},
   "outputs": [
    {
     "data": {
      "text/plain": [
       "(<QuerySet [<Paper: покамир>, <Paper: приветмир>]>,\n",
       " <QuerySet [<Paper: приветмир>]>)"
      ]
     },
     "execution_count": 80,
     "metadata": {},
     "output_type": "execute_result"
    }
   ],
   "source": [
    "# lookups\n",
    "# __gte - >=\n",
    "# __lte - <=\n",
    "\n",
    "Paper.objects.filter(pk__gte=17), Paper.objects.filter(pk__lte=17)"
   ]
  },
  {
   "cell_type": "code",
   "execution_count": 83,
   "id": "4250bf00",
   "metadata": {},
   "outputs": [
    {
     "data": {
      "text/plain": [
       "<QuerySet [<Paper: покамир>]>"
      ]
     },
     "execution_count": 83,
     "metadata": {},
     "output_type": "execute_result"
    }
   ],
   "source": [
    "# Выбрать все записи, у которых в заголовке встречается фрагмент слова. Например \"пока\"\n",
    "Paper.objects.filter(title__contains='пока')"
   ]
  },
  {
   "cell_type": "code",
   "execution_count": 84,
   "id": "86798a5e",
   "metadata": {},
   "outputs": [
    {
     "data": {
      "text/plain": [
       "<QuerySet []>"
      ]
     },
     "execution_count": 84,
     "metadata": {},
     "output_type": "execute_result"
    }
   ],
   "source": [
    "# Выбрать все записи как в примере выше, но без учета регистра\n",
    "Paper.objects.filter(title__icontains='ЛИ')\n",
    "# Результат будет пустым, потому что СУБД не поддерживает независимый поиск русских символов"
   ]
  },
  {
   "cell_type": "code",
   "execution_count": 85,
   "id": "58f8b4f7",
   "metadata": {},
   "outputs": [
    {
     "data": {
      "text/plain": [
       "<QuerySet [<Paper: покамир>, <Paper: приветмир>]>"
      ]
     },
     "execution_count": 85,
     "metadata": {},
     "output_type": "execute_result"
    }
   ],
   "source": [
    "# Выбрать все записи у которых первичный ключ равен 17 и 18\n",
    "Paper.objects.filter(pk__in=[17,18])"
   ]
  },
  {
   "cell_type": "code",
   "execution_count": 86,
   "id": "39b374d0",
   "metadata": {},
   "outputs": [
    {
     "data": {
      "text/plain": [
       "<QuerySet [<Paper: покамир>]>"
      ]
     },
     "execution_count": 86,
     "metadata": {},
     "output_type": "execute_result"
    }
   ],
   "source": [
    "# Выбрать записи по примеру выше, только опубликованные\n",
    "Paper.objects.filter(pk__in=[17,18], is_published=True)\n",
    "# таким образом мы можем задавать несколько условий в фильтр"
   ]
  },
  {
   "cell_type": "code",
   "execution_count": 88,
   "id": "e185bb4d",
   "metadata": {},
   "outputs": [
    {
     "data": {
      "text/plain": [
       "<QuerySet [<Paper: покамир>, <Paper: приветмир>]>"
      ]
     },
     "execution_count": 88,
     "metadata": {},
     "output_type": "execute_result"
    }
   ],
   "source": [
    "# Выбрать все записи из таблицы которые равны N категориям\n",
    "cats = Categories.objects.all()\n",
    "Paper.objects.filter(cat_id__in=cats)"
   ]
  },
  {
   "cell_type": "code",
   "execution_count": 91,
   "id": "3d0ea2d7",
   "metadata": {},
   "outputs": [],
   "source": [
    "# Как формировать условия ( И ИЛИ НЕ ) ?\n",
    "# Использовать класс Q\n",
    "# & - 2 приоритет (и) \n",
    "# | - 3 приоритет (или)\n",
    "# ~ - 1 приоритет (не)\n",
    "\n",
    "from django.db.models import Q"
   ]
  },
  {
   "cell_type": "code",
   "execution_count": 94,
   "id": "983d3aab",
   "metadata": {},
   "outputs": [
    {
     "data": {
      "text/plain": [
       "<QuerySet [<Paper: покамир>, <Paper: приветмир>]>"
      ]
     },
     "execution_count": 94,
     "metadata": {},
     "output_type": "execute_result"
    }
   ],
   "source": [
    "# Задача: вывести сущности у которых pk равен 17 или title равен \"покамир\"\n",
    "Paper.objects.filter(Q(pk=17) | Q(title='покамир'))"
   ]
  },
  {
   "cell_type": "code",
   "execution_count": 96,
   "id": "ef337452",
   "metadata": {},
   "outputs": [
    {
     "data": {
      "text/plain": [
       "<QuerySet []>"
      ]
     },
     "execution_count": 96,
     "metadata": {},
     "output_type": "execute_result"
    }
   ],
   "source": [
    "# Задача: вывести сущности у которых pk равен 17 и title равен \"покамир\"\n",
    "Paper.objects.filter(Q(pk=17) & Q(title='покамир'))"
   ]
  },
  {
   "cell_type": "code",
   "execution_count": 98,
   "id": "608b633b",
   "metadata": {},
   "outputs": [
    {
     "data": {
      "text/plain": [
       "<QuerySet [<Paper: покамир>]>"
      ]
     },
     "execution_count": 98,
     "metadata": {},
     "output_type": "execute_result"
    }
   ],
   "source": [
    "# Задача: вывести сущности у которых pk НЕ равен 17 и title равен \"покамир\"\n",
    "Paper.objects.filter(~Q(pk=17) & Q(title='покамир'))"
   ]
  },
  {
   "cell_type": "code",
   "execution_count": 101,
   "id": "2fb81ad7",
   "metadata": {},
   "outputs": [
    {
     "data": {
      "text/plain": [
       "<Paper: покамир>"
      ]
     },
     "execution_count": 101,
     "metadata": {},
     "output_type": "execute_result"
    }
   ],
   "source": [
    "# Задача: вывести первую сущность из таблицы\n",
    "Paper.objects.first()"
   ]
  },
  {
   "cell_type": "code",
   "execution_count": 103,
   "id": "83fb93da",
   "metadata": {},
   "outputs": [
    {
     "data": {
      "text/plain": [
       "<Paper: приветмир>"
      ]
     },
     "execution_count": 103,
     "metadata": {},
     "output_type": "execute_result"
    }
   ],
   "source": [
    "# Задача: вывести старую запись из таблицы\n",
    "Paper.objects.latest('time_update')"
   ]
  },
  {
   "cell_type": "code",
   "execution_count": 105,
   "id": "7bccf56c",
   "metadata": {},
   "outputs": [
    {
     "data": {
      "text/plain": [
       "<Paper: покамир>"
      ]
     },
     "execution_count": 105,
     "metadata": {},
     "output_type": "execute_result"
    }
   ],
   "source": [
    "# Задача: вывести запись которая добавлена недавно в таблицу\n",
    "Paper.objects.earliest('time_update')"
   ]
  },
  {
   "cell_type": "code",
   "execution_count": 106,
   "id": "fc1bc405",
   "metadata": {},
   "outputs": [
    {
     "data": {
      "text/plain": [
       "<Paper: покамир>"
      ]
     },
     "execution_count": 106,
     "metadata": {},
     "output_type": "execute_result"
    }
   ],
   "source": [
    "# Сделать сортировку по заголовку и вывести запись, которая по времени была добавлена первой\n",
    "Paper.objects.order_by('title').earliest('time_update')"
   ]
  },
  {
   "cell_type": "code",
   "execution_count": 115,
   "id": "cb010d44",
   "metadata": {},
   "outputs": [
    {
     "data": {
      "text/plain": [
       "<Paper: покамир>"
      ]
     },
     "execution_count": 115,
     "metadata": {},
     "output_type": "execute_result"
    }
   ],
   "source": [
    "# выбор записи относительно текущей (по дате)\n",
    "x = Paper.objects.get(pk=17)\n",
    "x.get_previous_by_time_update()"
   ]
  },
  {
   "cell_type": "code",
   "execution_count": 117,
   "id": "b05a21f1",
   "metadata": {},
   "outputs": [
    {
     "data": {
      "text/plain": [
       "<Categories: new_cat>"
      ]
     },
     "execution_count": 117,
     "metadata": {},
     "output_type": "execute_result"
    }
   ],
   "source": [
    "# exists() проверка существования записи\n",
    "# count() получение числа записей\n",
    "\n",
    "# Для тестов создаем новую категорию\n",
    "\n",
    "Categories.objects.create(name=\"new_cat\", slug=\"new_new\")"
   ]
  },
  {
   "cell_type": "code",
   "execution_count": 125,
   "id": "31083c57",
   "metadata": {},
   "outputs": [
    {
     "data": {
      "text/plain": [
       "False"
      ]
     },
     "execution_count": 125,
     "metadata": {},
     "output_type": "execute_result"
    }
   ],
   "source": [
    "# выбираем данную рубрику\n",
    "test_cat = Categories.objects.get(name='new_cat')\n",
    "test_cat.paper_set.exists() # проверка существующих записей, которые причастны к данной категории"
   ]
  },
  {
   "cell_type": "code",
   "execution_count": 144,
   "id": "81830441",
   "metadata": {},
   "outputs": [
    {
     "name": "stdout",
     "output_type": "stream",
     "text": [
      "<QuerySet [<Categories: new_cat>, <Categories: вторая>, <Categories: первая>]>\n"
     ]
    },
    {
     "data": {
      "text/plain": [
       "1"
      ]
     },
     "execution_count": 144,
     "metadata": {},
     "output_type": "execute_result"
    }
   ],
   "source": [
    "# Считаем количество записей\n",
    "y = Categories.objects.all()\n",
    "y\n",
    "# x = y[..]\n",
    "# x.paper_set.count()"
   ]
  },
  {
   "cell_type": "code",
   "execution_count": 149,
   "id": "98421690",
   "metadata": {},
   "outputs": [
    {
     "data": {
      "text/plain": [
       "<QuerySet [<Paper: покамир>]>"
      ]
     },
     "execution_count": 149,
     "metadata": {},
     "output_type": "execute_result"
    }
   ],
   "source": [
    "Paper.objects.filter(cat__name='первая')\n",
    "Paper.objects.filter(cat__slug='vtoraya')"
   ]
  },
  {
   "cell_type": "code",
   "execution_count": 156,
   "id": "3c07bece",
   "metadata": {},
   "outputs": [
    {
     "data": {
      "text/plain": [
       "<QuerySet [<Categories: вторая>, <Categories: первая>]>"
      ]
     },
     "execution_count": 156,
     "metadata": {},
     "output_type": "execute_result"
    }
   ],
   "source": [
    "# Выбрать все категории в которых есть статьи у которых в поле 'title' встречается 'ли'\n",
    "Categories.objects.filter(paper__title__contains='п')"
   ]
  },
  {
   "cell_type": "code",
   "execution_count": 157,
   "id": "dbdda59e",
   "metadata": {},
   "outputs": [
    {
     "data": {
      "text/plain": [
       "<QuerySet [<Categories: вторая>, <Categories: первая>]>"
      ]
     },
     "execution_count": 157,
     "metadata": {},
     "output_type": "execute_result"
    }
   ],
   "source": [
    "# взять только уникальные записи по примеру выше\n",
    "Categories.objects.filter(paper__title__contains='п').distinct()"
   ]
  },
  {
   "cell_type": "code",
   "execution_count": 161,
   "id": "499d0818",
   "metadata": {},
   "outputs": [
    {
     "data": {
      "text/plain": [
       "{'title__min': 'покамир'}"
      ]
     },
     "execution_count": 161,
     "metadata": {},
     "output_type": "execute_result"
    }
   ],
   "source": [
    "# Агрегирующие функции\n",
    "# Задача: найти минимальный id\n",
    "from django.db import *\n",
    "Paper.objects.aggregate(Min('title'))\n",
    "# также есть Max"
   ]
  },
  {
   "cell_type": "code",
   "execution_count": 164,
   "id": "e353f126",
   "metadata": {},
   "outputs": [
    {
     "data": {
      "text/plain": [
       "{'example': 'покамир'}"
      ]
     },
     "execution_count": 164,
     "metadata": {},
     "output_type": "execute_result"
    }
   ],
   "source": [
    "# если есть желание поменять ключи, то нужно использовать следующий синтаксис\n",
    "Paper.objects.aggregate(example=Min('title'))"
   ]
  },
  {
   "cell_type": "code",
   "execution_count": 165,
   "id": "f0ce5bdc",
   "metadata": {},
   "outputs": [
    {
     "data": {
      "text/plain": [
       "{'res': 37}"
      ]
     },
     "execution_count": 165,
     "metadata": {},
     "output_type": "execute_result"
    }
   ],
   "source": [
    "# Выполнение математических операций\n",
    "Paper.objects.aggregate(res=Sum('id') + Count('id'))"
   ]
  },
  {
   "cell_type": "code",
   "execution_count": 169,
   "id": "06c39a95",
   "metadata": {},
   "outputs": [
    {
     "data": {
      "text/plain": [
       "{'title': 'приветмир'}"
      ]
     },
     "execution_count": 169,
     "metadata": {},
     "output_type": "execute_result"
    }
   ],
   "source": [
    "# выборка из объекта только определенных записей\n",
    "Paper.objects.values('title').get(pk=17)"
   ]
  },
  {
   "cell_type": "code",
   "execution_count": 175,
   "id": "aeb85941",
   "metadata": {},
   "outputs": [
    {
     "data": {
      "text/plain": [
       "<QuerySet [{'cat_id': 5, 'total': 1}, {'cat_id': 6, 'total': 1}]>"
      ]
     },
     "execution_count": 175,
     "metadata": {},
     "output_type": "execute_result"
    }
   ],
   "source": [
    "# выбрать все категории и применить агрегирующие фукнции\n",
    "Paper.objects.values('cat_id').annotate(total=Count('id'))"
   ]
  },
  {
   "cell_type": "code",
   "execution_count": 179,
   "id": "55ea2bf1",
   "metadata": {},
   "outputs": [
    {
     "data": {
      "text/plain": [
       "<QuerySet [{'cat_id': 6, 'total': 2}]>"
      ]
     },
     "execution_count": 179,
     "metadata": {},
     "output_type": "execute_result"
    }
   ],
   "source": [
    "# выбрать только те категории в которых записей больше 0\n",
    "Paper.objects.values('cat_id').annotate(total=Count('id')).filter(total__gt=1)"
   ]
  },
  {
   "cell_type": "code",
   "execution_count": 183,
   "id": "3ba411e1",
   "metadata": {},
   "outputs": [
    {
     "data": {
      "text/plain": [
       "<QuerySet [<Paper: onemore>, <Paper: покамир>, <Paper: приветмир>]>"
      ]
     },
     "execution_count": 183,
     "metadata": {},
     "output_type": "execute_result"
    }
   ],
   "source": [
    "# Класс F\n",
    "# Задача: сравнить первичный ключ с полем cat_id\n",
    "from django.db.models import F\n",
    "Paper.objects.filter(pk__gt=F('cat_id'))"
   ]
  },
  {
   "cell_type": "code",
   "execution_count": 184,
   "id": "351a6da7",
   "metadata": {},
   "outputs": [
    {
     "data": {
      "text/plain": [
       "<QuerySet [<Paper: onemore>, <Paper: покамир>, <Paper: приветмир>]>"
      ]
     },
     "execution_count": 184,
     "metadata": {},
     "output_type": "execute_result"
    }
   ],
   "source": [
    "Paper.objects.annotate()"
   ]
  },
  {
   "cell_type": "code",
   "execution_count": 187,
   "id": "5ab7b63b",
   "metadata": {},
   "outputs": [
    {
     "data": {
      "text/plain": [
       "[{'sql': 'SELECT \"paper_paper\".\"id\", \"paper_paper\".\"title\", \"paper_paper\".\"slug\", \"paper_paper\".\"content\", \"paper_paper\".\"photo\", \"paper_paper\".\"time_create\", \"paper_paper\".\"time_update\", \"paper_paper\".\"is_published\", \"paper_paper\".\"cat_id\" FROM \"paper_paper\" ORDER BY \"paper_paper\".\"time_create\" DESC, \"paper_paper\".\"title\" ASC LIMIT 21',\n",
       "  'time': '0.000'},\n",
       " {'sql': 'SELECT \"paper_paper\".\"id\", \"paper_paper\".\"title\", \"paper_paper\".\"slug\", \"paper_paper\".\"content\", \"paper_paper\".\"photo\", \"paper_paper\".\"time_create\", \"paper_paper\".\"time_update\", \"paper_paper\".\"is_published\", \"paper_paper\".\"cat_id\" FROM \"paper_paper\" ORDER BY \"paper_paper\".\"time_create\" DESC, \"paper_paper\".\"title\" ASC LIMIT 21',\n",
       "  'time': '0.000'},\n",
       " {'sql': 'SELECT \"paper_paper\".\"id\", \"paper_paper\".\"title\", \"paper_paper\".\"slug\", \"paper_paper\".\"content\", \"paper_paper\".\"photo\", \"paper_paper\".\"time_create\", \"paper_paper\".\"time_update\", \"paper_paper\".\"is_published\", \"paper_paper\".\"cat_id\" FROM \"paper_paper\" ORDER BY \"paper_paper\".\"time_create\" DESC, \"paper_paper\".\"title\" ASC LIMIT 21',\n",
       "  'time': '0.000'},\n",
       " {'sql': 'SELECT \"paper_paper\".\"id\", \"paper_paper\".\"title\", \"paper_paper\".\"slug\", \"paper_paper\".\"content\", \"paper_paper\".\"photo\", \"paper_paper\".\"time_create\", \"paper_paper\".\"time_update\", \"paper_paper\".\"is_published\", \"paper_paper\".\"cat_id\" FROM \"paper_paper\" ORDER BY \"paper_paper\".\"time_create\" DESC, \"paper_paper\".\"title\" ASC LIMIT 21',\n",
       "  'time': '0.000'},\n",
       " {'sql': 'SELECT \"paper_paper\".\"id\", \"paper_paper\".\"title\", \"paper_paper\".\"slug\", \"paper_paper\".\"content\", \"paper_paper\".\"photo\", \"paper_paper\".\"time_create\", \"paper_paper\".\"time_update\", \"paper_paper\".\"is_published\", \"paper_paper\".\"cat_id\" FROM \"paper_paper\" ORDER BY \"paper_paper\".\"time_create\" DESC, \"paper_paper\".\"title\" ASC LIMIT 21',\n",
       "  'time': '0.000'},\n",
       " {'sql': 'SELECT \"paper_paper\".\"id\", \"paper_paper\".\"title\", \"paper_paper\".\"slug\", \"paper_paper\".\"content\", \"paper_paper\".\"photo\", \"paper_paper\".\"time_create\", \"paper_paper\".\"time_update\", \"paper_paper\".\"is_published\", \"paper_paper\".\"cat_id\" FROM \"paper_paper\" ORDER BY \"paper_paper\".\"time_create\" DESC, \"paper_paper\".\"title\" ASC LIMIT 21',\n",
       "  'time': '0.000'},\n",
       " {'sql': 'SELECT \"paper_paper\".\"id\", \"paper_paper\".\"title\", \"paper_paper\".\"slug\", \"paper_paper\".\"content\", \"paper_paper\".\"photo\", \"paper_paper\".\"time_create\", \"paper_paper\".\"time_update\", \"paper_paper\".\"is_published\", \"paper_paper\".\"cat_id\" FROM \"paper_paper\" ORDER BY \"paper_paper\".\"time_create\" DESC, \"paper_paper\".\"title\" ASC LIMIT 21',\n",
       "  'time': '0.000'},\n",
       " {'sql': 'SELECT \"paper_paper\".\"id\", \"paper_paper\".\"title\", \"paper_paper\".\"slug\", \"paper_paper\".\"content\", \"paper_paper\".\"photo\", \"paper_paper\".\"time_create\", \"paper_paper\".\"time_update\", \"paper_paper\".\"is_published\", \"paper_paper\".\"cat_id\" FROM \"paper_paper\" ORDER BY \"paper_paper\".\"time_create\" DESC, \"paper_paper\".\"title\" ASC LIMIT 21',\n",
       "  'time': '0.000'},\n",
       " {'sql': 'SELECT \"paper_paper\".\"id\", \"paper_paper\".\"title\", \"paper_paper\".\"slug\", \"paper_paper\".\"content\", \"paper_paper\".\"photo\", \"paper_paper\".\"time_create\", \"paper_paper\".\"time_update\", \"paper_paper\".\"is_published\", \"paper_paper\".\"cat_id\" FROM \"paper_paper\" ORDER BY \"paper_paper\".\"time_create\" DESC, \"paper_paper\".\"title\" ASC LIMIT 21',\n",
       "  'time': '0.015'},\n",
       " {'sql': 'SELECT \"paper_paper\".\"id\", \"paper_paper\".\"title\", \"paper_paper\".\"slug\", \"paper_paper\".\"content\", \"paper_paper\".\"photo\", \"paper_paper\".\"time_create\", \"paper_paper\".\"time_update\", \"paper_paper\".\"is_published\", \"paper_paper\".\"cat_id\" FROM \"paper_paper\" ORDER BY \"paper_paper\".\"time_create\" DESC, \"paper_paper\".\"title\" ASC LIMIT 21',\n",
       "  'time': '0.000'},\n",
       " {'sql': 'SELECT \"paper_paper\".\"id\", \"paper_paper\".\"title\", \"paper_paper\".\"slug\", \"paper_paper\".\"content\", \"paper_paper\".\"photo\", \"paper_paper\".\"time_create\", \"paper_paper\".\"time_update\", \"paper_paper\".\"is_published\", \"paper_paper\".\"cat_id\" FROM \"paper_paper\" ORDER BY \"paper_paper\".\"time_create\" DESC, \"paper_paper\".\"title\" ASC LIMIT 21',\n",
       "  'time': '0.000'},\n",
       " {'sql': 'SELECT \"paper_paper\".\"id\", \"paper_paper\".\"title\", \"paper_paper\".\"slug\", \"paper_paper\".\"content\", \"paper_paper\".\"photo\", \"paper_paper\".\"time_create\", \"paper_paper\".\"time_update\", \"paper_paper\".\"is_published\", \"paper_paper\".\"cat_id\" FROM \"paper_paper\" ORDER BY \"paper_paper\".\"time_create\" DESC, \"paper_paper\".\"title\" ASC LIMIT 21',\n",
       "  'time': '0.000'},\n",
       " {'sql': 'SELECT \"paper_paper\".\"id\", \"paper_paper\".\"title\", \"paper_paper\".\"slug\", \"paper_paper\".\"content\", \"paper_paper\".\"photo\", \"paper_paper\".\"time_create\", \"paper_paper\".\"time_update\", \"paper_paper\".\"is_published\", \"paper_paper\".\"cat_id\" FROM \"paper_paper\" ORDER BY \"paper_paper\".\"time_create\" DESC, \"paper_paper\".\"title\" ASC LIMIT 21',\n",
       "  'time': '0.000'},\n",
       " {'sql': 'SELECT \"paper_paper\".\"id\", \"paper_paper\".\"title\", \"paper_paper\".\"slug\", \"paper_paper\".\"content\", \"paper_paper\".\"photo\", \"paper_paper\".\"time_create\", \"paper_paper\".\"time_update\", \"paper_paper\".\"is_published\", \"paper_paper\".\"cat_id\" FROM \"paper_paper\" ORDER BY \"paper_paper\".\"time_create\" DESC, \"paper_paper\".\"title\" ASC LIMIT 1',\n",
       "  'time': '0.000'},\n",
       " {'sql': 'SELECT \"paper_paper\".\"id\", \"paper_paper\".\"title\", \"paper_paper\".\"slug\", \"paper_paper\".\"content\", \"paper_paper\".\"photo\", \"paper_paper\".\"time_create\", \"paper_paper\".\"time_update\", \"paper_paper\".\"is_published\", \"paper_paper\".\"cat_id\" FROM \"paper_paper\" ORDER BY \"paper_paper\".\"id\" ASC LIMIT 21',\n",
       "  'time': '0.000'},\n",
       " {'sql': 'SELECT \"paper_paper\".\"id\", \"paper_paper\".\"title\", \"paper_paper\".\"slug\", \"paper_paper\".\"content\", \"paper_paper\".\"photo\", \"paper_paper\".\"time_create\", \"paper_paper\".\"time_update\", \"paper_paper\".\"is_published\", \"paper_paper\".\"cat_id\" FROM \"paper_paper\" ORDER BY \"paper_paper\".\"id\" ASC LIMIT 21',\n",
       "  'time': '0.000'},\n",
       " {'sql': 'SELECT \"paper_paper\".\"id\", \"paper_paper\".\"title\", \"paper_paper\".\"slug\", \"paper_paper\".\"content\", \"paper_paper\".\"photo\", \"paper_paper\".\"time_create\", \"paper_paper\".\"time_update\", \"paper_paper\".\"is_published\", \"paper_paper\".\"cat_id\" FROM \"paper_paper\" ORDER BY \"paper_paper\".\"id\" DESC LIMIT 21',\n",
       "  'time': '0.000'},\n",
       " {'sql': 'SELECT \"paper_paper\".\"id\", \"paper_paper\".\"title\", \"paper_paper\".\"slug\", \"paper_paper\".\"content\", \"paper_paper\".\"photo\", \"paper_paper\".\"time_create\", \"paper_paper\".\"time_update\", \"paper_paper\".\"is_published\", \"paper_paper\".\"cat_id\" FROM \"paper_paper\" ORDER BY \"paper_paper\".\"time_create\" ASC, \"paper_paper\".\"title\" DESC LIMIT 21',\n",
       "  'time': '0.000'},\n",
       " {'sql': 'SELECT \"paper_paper\".\"id\", \"paper_paper\".\"title\", \"paper_paper\".\"slug\", \"paper_paper\".\"content\", \"paper_paper\".\"photo\", \"paper_paper\".\"time_create\", \"paper_paper\".\"time_update\", \"paper_paper\".\"is_published\", \"paper_paper\".\"cat_id\" FROM \"paper_paper\" ORDER BY \"paper_paper\".\"id\" DESC LIMIT 21',\n",
       "  'time': '0.000'},\n",
       " {'sql': 'SELECT \"paper_paper\".\"id\", \"paper_paper\".\"title\", \"paper_paper\".\"slug\", \"paper_paper\".\"content\", \"paper_paper\".\"photo\", \"paper_paper\".\"time_create\", \"paper_paper\".\"time_update\", \"paper_paper\".\"is_published\", \"paper_paper\".\"cat_id\" FROM \"paper_paper\" ORDER BY \"paper_paper\".\"time_create\" ASC, \"paper_paper\".\"title\" DESC LIMIT 21',\n",
       "  'time': '0.000'},\n",
       " {'sql': 'SELECT \"paper_paper\".\"id\", \"paper_paper\".\"title\", \"paper_paper\".\"slug\", \"paper_paper\".\"content\", \"paper_paper\".\"photo\", \"paper_paper\".\"time_create\", \"paper_paper\".\"time_update\", \"paper_paper\".\"is_published\", \"paper_paper\".\"cat_id\" FROM \"paper_paper\" ORDER BY \"paper_paper\".\"time_create\" ASC, \"paper_paper\".\"title\" DESC LIMIT 21',\n",
       "  'time': '0.000'},\n",
       " {'sql': 'SELECT \"paper_paper\".\"id\", \"paper_paper\".\"title\", \"paper_paper\".\"slug\", \"paper_paper\".\"content\", \"paper_paper\".\"photo\", \"paper_paper\".\"time_create\", \"paper_paper\".\"time_update\", \"paper_paper\".\"is_published\", \"paper_paper\".\"cat_id\" FROM \"paper_paper\" ORDER BY \"paper_paper\".\"time_create\" ASC, \"paper_paper\".\"title\" DESC LIMIT 21',\n",
       "  'time': '0.000'},\n",
       " {'sql': 'SELECT \"paper_paper\".\"id\", \"paper_paper\".\"title\", \"paper_paper\".\"slug\", \"paper_paper\".\"content\", \"paper_paper\".\"photo\", \"paper_paper\".\"time_create\", \"paper_paper\".\"time_update\", \"paper_paper\".\"is_published\", \"paper_paper\".\"cat_id\" FROM \"paper_paper\" ORDER BY \"paper_paper\".\"id\" DESC LIMIT 21',\n",
       "  'time': '0.000'},\n",
       " {'sql': 'SELECT \"paper_paper\".\"id\", \"paper_paper\".\"title\", \"paper_paper\".\"slug\", \"paper_paper\".\"content\", \"paper_paper\".\"photo\", \"paper_paper\".\"time_create\", \"paper_paper\".\"time_update\", \"paper_paper\".\"is_published\", \"paper_paper\".\"cat_id\" FROM \"paper_paper\" ORDER BY \"paper_paper\".\"time_create\" ASC, \"paper_paper\".\"title\" DESC LIMIT 21',\n",
       "  'time': '0.000'},\n",
       " {'sql': 'SELECT \"paper_paper\".\"id\", \"paper_paper\".\"title\", \"paper_paper\".\"slug\", \"paper_paper\".\"content\", \"paper_paper\".\"photo\", \"paper_paper\".\"time_create\", \"paper_paper\".\"time_update\", \"paper_paper\".\"is_published\", \"paper_paper\".\"cat_id\" FROM \"paper_paper\" ORDER BY \"paper_paper\".\"id\" ASC LIMIT 21',\n",
       "  'time': '0.000'},\n",
       " {'sql': 'SELECT \"paper_paper\".\"id\", \"paper_paper\".\"title\", \"paper_paper\".\"slug\", \"paper_paper\".\"content\", \"paper_paper\".\"photo\", \"paper_paper\".\"time_create\", \"paper_paper\".\"time_update\", \"paper_paper\".\"is_published\", \"paper_paper\".\"cat_id\" FROM \"paper_paper\" ORDER BY \"paper_paper\".\"time_create\" ASC, \"paper_paper\".\"title\" DESC LIMIT 21',\n",
       "  'time': '0.000'},\n",
       " {'sql': 'SELECT \"paper_paper\".\"id\", \"paper_paper\".\"title\", \"paper_paper\".\"slug\", \"paper_paper\".\"content\", \"paper_paper\".\"photo\", \"paper_paper\".\"time_create\", \"paper_paper\".\"time_update\", \"paper_paper\".\"is_published\", \"paper_paper\".\"cat_id\" FROM \"paper_paper\" ORDER BY \"paper_paper\".\"id\" ASC LIMIT 21',\n",
       "  'time': '0.000'},\n",
       " {'sql': 'SELECT \"paper_paper\".\"id\", \"paper_paper\".\"title\", \"paper_paper\".\"slug\", \"paper_paper\".\"content\", \"paper_paper\".\"photo\", \"paper_paper\".\"time_create\", \"paper_paper\".\"time_update\", \"paper_paper\".\"is_published\", \"paper_paper\".\"cat_id\" FROM \"paper_paper\" WHERE \"paper_paper\".\"id\" <= 17 ORDER BY \"paper_paper\".\"time_create\" DESC, \"paper_paper\".\"title\" ASC LIMIT 21',\n",
       "  'time': '0.000'},\n",
       " {'sql': 'SELECT \"paper_paper\".\"id\", \"paper_paper\".\"title\", \"paper_paper\".\"slug\", \"paper_paper\".\"content\", \"paper_paper\".\"photo\", \"paper_paper\".\"time_create\", \"paper_paper\".\"time_update\", \"paper_paper\".\"is_published\", \"paper_paper\".\"cat_id\" FROM \"paper_paper\" WHERE \"paper_paper\".\"id\" <= 17 ORDER BY \"paper_paper\".\"time_create\" DESC, \"paper_paper\".\"title\" ASC LIMIT 21',\n",
       "  'time': '0.000'},\n",
       " {'sql': 'SELECT \"paper_paper\".\"id\", \"paper_paper\".\"title\", \"paper_paper\".\"slug\", \"paper_paper\".\"content\", \"paper_paper\".\"photo\", \"paper_paper\".\"time_create\", \"paper_paper\".\"time_update\", \"paper_paper\".\"is_published\", \"paper_paper\".\"cat_id\" FROM \"paper_paper\" WHERE \"paper_paper\".\"id\" <= 17 ORDER BY \"paper_paper\".\"time_create\" DESC, \"paper_paper\".\"title\" ASC LIMIT 21',\n",
       "  'time': '0.000'},\n",
       " {'sql': 'SELECT \"paper_paper\".\"id\", \"paper_paper\".\"title\", \"paper_paper\".\"slug\", \"paper_paper\".\"content\", \"paper_paper\".\"photo\", \"paper_paper\".\"time_create\", \"paper_paper\".\"time_update\", \"paper_paper\".\"is_published\", \"paper_paper\".\"cat_id\" FROM \"paper_paper\" WHERE \"paper_paper\".\"id\" = 18 LIMIT 21',\n",
       "  'time': '0.000'},\n",
       " {'sql': 'SELECT \"paper_paper\".\"id\", \"paper_paper\".\"title\", \"paper_paper\".\"slug\", \"paper_paper\".\"content\", \"paper_paper\".\"photo\", \"paper_paper\".\"time_create\", \"paper_paper\".\"time_update\", \"paper_paper\".\"is_published\", \"paper_paper\".\"cat_id\" FROM \"paper_paper\" WHERE \"paper_paper\".\"id\" = 18 LIMIT 21',\n",
       "  'time': '0.000'},\n",
       " {'sql': 'SELECT \"paper_paper\".\"id\", \"paper_paper\".\"title\", \"paper_paper\".\"slug\", \"paper_paper\".\"content\", \"paper_paper\".\"photo\", \"paper_paper\".\"time_create\", \"paper_paper\".\"time_update\", \"paper_paper\".\"is_published\", \"paper_paper\".\"cat_id\" FROM \"paper_paper\" WHERE \"paper_paper\".\"id\" = 18 LIMIT 21',\n",
       "  'time': '0.000'},\n",
       " {'sql': 'SELECT \"paper_paper\".\"id\", \"paper_paper\".\"title\", \"paper_paper\".\"slug\", \"paper_paper\".\"content\", \"paper_paper\".\"photo\", \"paper_paper\".\"time_create\", \"paper_paper\".\"time_update\", \"paper_paper\".\"is_published\", \"paper_paper\".\"cat_id\" FROM \"paper_paper\" WHERE \"paper_paper\".\"id\" = 18 LIMIT 21',\n",
       "  'time': '0.000'},\n",
       " {'sql': 'SELECT \"paper_paper\".\"id\", \"paper_paper\".\"title\", \"paper_paper\".\"slug\", \"paper_paper\".\"content\", \"paper_paper\".\"photo\", \"paper_paper\".\"time_create\", \"paper_paper\".\"time_update\", \"paper_paper\".\"is_published\", \"paper_paper\".\"cat_id\" FROM \"paper_paper\" WHERE \"paper_paper\".\"id\" = 18 LIMIT 21',\n",
       "  'time': '0.000'},\n",
       " {'sql': 'SELECT \"paper_categories\".\"id\", \"paper_categories\".\"name\", \"paper_categories\".\"slug\" FROM \"paper_categories\" WHERE \"paper_categories\".\"id\" = 6 LIMIT 21',\n",
       "  'time': '0.000'},\n",
       " {'sql': 'SELECT \"paper_categories\".\"id\", \"paper_categories\".\"name\", \"paper_categories\".\"slug\" FROM \"paper_categories\" ORDER BY \"paper_categories\".\"id\" DESC, \"paper_categories\".\"name\" ASC LIMIT 21',\n",
       "  'time': '0.000'},\n",
       " {'sql': 'SELECT \"paper_categories\".\"id\", \"paper_categories\".\"name\", \"paper_categories\".\"slug\" FROM \"paper_categories\" ORDER BY \"paper_categories\".\"id\" DESC, \"paper_categories\".\"name\" ASC LIMIT 1',\n",
       "  'time': '0.000'},\n",
       " {'sql': 'SELECT \"paper_categories\".\"id\", \"paper_categories\".\"name\", \"paper_categories\".\"slug\" FROM \"paper_categories\" ORDER BY \"paper_categories\".\"id\" DESC, \"paper_categories\".\"name\" ASC LIMIT 1',\n",
       "  'time': '0.000'},\n",
       " {'sql': 'SELECT \"paper_categories\".\"id\", \"paper_categories\".\"name\", \"paper_categories\".\"slug\" FROM \"paper_categories\" WHERE \"paper_categories\".\"id\" = 6 LIMIT 21',\n",
       "  'time': '0.000'},\n",
       " {'sql': 'SELECT \"paper_categories\".\"id\", \"paper_categories\".\"name\", \"paper_categories\".\"slug\" FROM \"paper_categories\" ORDER BY \"paper_categories\".\"id\" DESC, \"paper_categories\".\"name\" ASC LIMIT 21',\n",
       "  'time': '0.000'},\n",
       " {'sql': 'SELECT \"paper_categories\".\"id\", \"paper_categories\".\"name\", \"paper_categories\".\"slug\" FROM \"paper_categories\" ORDER BY \"paper_categories\".\"id\" DESC, \"paper_categories\".\"name\" ASC LIMIT 1 OFFSET 1',\n",
       "  'time': '0.000'},\n",
       " {'sql': 'SELECT \"paper_categories\".\"id\", \"paper_categories\".\"name\", \"paper_categories\".\"slug\" FROM \"paper_categories\" WHERE \"paper_categories\".\"id\" = 5 LIMIT 21',\n",
       "  'time': '0.000'},\n",
       " {'sql': 'SELECT \"paper_categories\".\"id\", \"paper_categories\".\"name\", \"paper_categories\".\"slug\" FROM \"paper_categories\" WHERE \"paper_categories\".\"id\" = 5 LIMIT 21',\n",
       "  'time': '0.000'},\n",
       " {'sql': 'SELECT \"paper_categories\".\"id\", \"paper_categories\".\"name\", \"paper_categories\".\"slug\" FROM \"paper_categories\" WHERE \"paper_categories\".\"id\" = 5 LIMIT 21',\n",
       "  'time': '0.000'},\n",
       " {'sql': 'SELECT \"paper_categories\".\"id\", \"paper_categories\".\"name\", \"paper_categories\".\"slug\" FROM \"paper_categories\" WHERE \"paper_categories\".\"id\" = 5 LIMIT 21',\n",
       "  'time': '0.000'},\n",
       " {'sql': 'SELECT \"paper_categories\".\"id\", \"paper_categories\".\"name\", \"paper_categories\".\"slug\" FROM \"paper_categories\" WHERE \"paper_categories\".\"id\" = 5 LIMIT 21',\n",
       "  'time': '0.000'},\n",
       " {'sql': 'SELECT \"paper_categories\".\"id\", \"paper_categories\".\"name\", \"paper_categories\".\"slug\" FROM \"paper_categories\" WHERE \"paper_categories\".\"id\" = 5 LIMIT 21',\n",
       "  'time': '0.000'},\n",
       " {'sql': 'SELECT \"paper_categories\".\"id\", \"paper_categories\".\"name\", \"paper_categories\".\"slug\" FROM \"paper_categories\" WHERE \"paper_categories\".\"id\" = 5 LIMIT 21',\n",
       "  'time': '0.000'},\n",
       " {'sql': 'SELECT \"paper_categories\".\"id\", \"paper_categories\".\"name\", \"paper_categories\".\"slug\" FROM \"paper_categories\" WHERE \"paper_categories\".\"id\" = 5 LIMIT 21',\n",
       "  'time': '0.000'},\n",
       " {'sql': 'SELECT \"paper_categories\".\"id\", \"paper_categories\".\"name\", \"paper_categories\".\"slug\" FROM \"paper_categories\" WHERE \"paper_categories\".\"id\" = 5 LIMIT 21',\n",
       "  'time': '0.000'},\n",
       " {'sql': 'SELECT \"paper_paper\".\"id\", \"paper_paper\".\"title\", \"paper_paper\".\"slug\", \"paper_paper\".\"content\", \"paper_paper\".\"photo\", \"paper_paper\".\"time_create\", \"paper_paper\".\"time_update\", \"paper_paper\".\"is_published\", \"paper_paper\".\"cat_id\" FROM \"paper_paper\" WHERE \"paper_paper\".\"cat_id\" = 5 ORDER BY \"paper_paper\".\"time_create\" DESC, \"paper_paper\".\"title\" ASC LIMIT 21',\n",
       "  'time': '0.000'},\n",
       " {'sql': 'SELECT \"paper_categories\".\"id\", \"paper_categories\".\"name\", \"paper_categories\".\"slug\" FROM \"paper_categories\" WHERE \"paper_categories\".\"id\" = 5 LIMIT 21',\n",
       "  'time': '0.000'},\n",
       " {'sql': 'SELECT \"paper_paper\".\"id\", \"paper_paper\".\"title\", \"paper_paper\".\"slug\", \"paper_paper\".\"content\", \"paper_paper\".\"photo\", \"paper_paper\".\"time_create\", \"paper_paper\".\"time_update\", \"paper_paper\".\"is_published\", \"paper_paper\".\"cat_id\" FROM \"paper_paper\" WHERE \"paper_paper\".\"cat_id\" = 5 ORDER BY \"paper_paper\".\"time_create\" DESC, \"paper_paper\".\"title\" ASC LIMIT 21',\n",
       "  'time': '0.000'},\n",
       " {'sql': 'SELECT \"paper_categories\".\"id\", \"paper_categories\".\"name\", \"paper_categories\".\"slug\" FROM \"paper_categories\" WHERE \"paper_categories\".\"id\" = 5 LIMIT 21',\n",
       "  'time': '0.000'},\n",
       " {'sql': 'SELECT \"paper_paper\".\"id\", \"paper_paper\".\"title\", \"paper_paper\".\"slug\", \"paper_paper\".\"content\", \"paper_paper\".\"photo\", \"paper_paper\".\"time_create\", \"paper_paper\".\"time_update\", \"paper_paper\".\"is_published\", \"paper_paper\".\"cat_id\" FROM \"paper_paper\" WHERE \"paper_paper\".\"cat_id\" = 5 ORDER BY \"paper_paper\".\"time_create\" DESC, \"paper_paper\".\"title\" ASC LIMIT 21',\n",
       "  'time': '0.000'},\n",
       " {'sql': 'SELECT \"paper_categories\".\"id\", \"paper_categories\".\"name\", \"paper_categories\".\"slug\" FROM \"paper_categories\" WHERE \"paper_categories\".\"id\" = 5 LIMIT 21',\n",
       "  'time': '0.000'},\n",
       " {'sql': 'SELECT \"paper_paper\".\"id\", \"paper_paper\".\"title\", \"paper_paper\".\"slug\", \"paper_paper\".\"content\", \"paper_paper\".\"photo\", \"paper_paper\".\"time_create\", \"paper_paper\".\"time_update\", \"paper_paper\".\"is_published\", \"paper_paper\".\"cat_id\" FROM \"paper_paper\" WHERE \"paper_paper\".\"cat_id\" = 5 ORDER BY \"paper_paper\".\"time_create\" DESC, \"paper_paper\".\"title\" ASC LIMIT 21',\n",
       "  'time': '0.000'},\n",
       " {'sql': 'SELECT \"paper_paper\".\"id\", \"paper_paper\".\"title\", \"paper_paper\".\"slug\", \"paper_paper\".\"content\", \"paper_paper\".\"photo\", \"paper_paper\".\"time_create\", \"paper_paper\".\"time_update\", \"paper_paper\".\"is_published\", \"paper_paper\".\"cat_id\" FROM \"paper_paper\" WHERE \"paper_paper\".\"id\" >= 17 ORDER BY \"paper_paper\".\"time_create\" DESC, \"paper_paper\".\"title\" ASC LIMIT 21',\n",
       "  'time': '0.000'},\n",
       " {'sql': 'SELECT \"paper_paper\".\"id\", \"paper_paper\".\"title\", \"paper_paper\".\"slug\", \"paper_paper\".\"content\", \"paper_paper\".\"photo\", \"paper_paper\".\"time_create\", \"paper_paper\".\"time_update\", \"paper_paper\".\"is_published\", \"paper_paper\".\"cat_id\" FROM \"paper_paper\" WHERE \"paper_paper\".\"id\" >= 17 ORDER BY \"paper_paper\".\"time_create\" DESC, \"paper_paper\".\"title\" ASC LIMIT 21',\n",
       "  'time': '0.000'},\n",
       " {'sql': 'SELECT \"paper_paper\".\"id\", \"paper_paper\".\"title\", \"paper_paper\".\"slug\", \"paper_paper\".\"content\", \"paper_paper\".\"photo\", \"paper_paper\".\"time_create\", \"paper_paper\".\"time_update\", \"paper_paper\".\"is_published\", \"paper_paper\".\"cat_id\" FROM \"paper_paper\" WHERE \"paper_paper\".\"id\" <= 17 ORDER BY \"paper_paper\".\"time_create\" DESC, \"paper_paper\".\"title\" ASC LIMIT 21',\n",
       "  'time': '0.000'},\n",
       " {'sql': 'SELECT \"paper_paper\".\"id\", \"paper_paper\".\"title\", \"paper_paper\".\"slug\", \"paper_paper\".\"content\", \"paper_paper\".\"photo\", \"paper_paper\".\"time_create\", \"paper_paper\".\"time_update\", \"paper_paper\".\"is_published\", \"paper_paper\".\"cat_id\" FROM \"paper_paper\" WHERE \"paper_paper\".\"title\" LIKE \\'%мир%\\' ESCAPE \\'\\\\\\' ORDER BY \"paper_paper\".\"time_create\" DESC, \"paper_paper\".\"title\" ASC LIMIT 21',\n",
       "  'time': '0.000'},\n",
       " {'sql': 'SELECT \"paper_paper\".\"id\", \"paper_paper\".\"title\", \"paper_paper\".\"slug\", \"paper_paper\".\"content\", \"paper_paper\".\"photo\", \"paper_paper\".\"time_create\", \"paper_paper\".\"time_update\", \"paper_paper\".\"is_published\", \"paper_paper\".\"cat_id\" FROM \"paper_paper\" WHERE \"paper_paper\".\"title\" LIKE \\'%пока%\\' ESCAPE \\'\\\\\\' ORDER BY \"paper_paper\".\"time_create\" DESC, \"paper_paper\".\"title\" ASC LIMIT 21',\n",
       "  'time': '0.000'},\n",
       " {'sql': 'SELECT \"paper_paper\".\"id\", \"paper_paper\".\"title\", \"paper_paper\".\"slug\", \"paper_paper\".\"content\", \"paper_paper\".\"photo\", \"paper_paper\".\"time_create\", \"paper_paper\".\"time_update\", \"paper_paper\".\"is_published\", \"paper_paper\".\"cat_id\" FROM \"paper_paper\" WHERE \"paper_paper\".\"title\" LIKE \\'%ЛИ%\\' ESCAPE \\'\\\\\\' ORDER BY \"paper_paper\".\"time_create\" DESC, \"paper_paper\".\"title\" ASC LIMIT 21',\n",
       "  'time': '0.000'},\n",
       " {'sql': 'SELECT \"paper_paper\".\"id\", \"paper_paper\".\"title\", \"paper_paper\".\"slug\", \"paper_paper\".\"content\", \"paper_paper\".\"photo\", \"paper_paper\".\"time_create\", \"paper_paper\".\"time_update\", \"paper_paper\".\"is_published\", \"paper_paper\".\"cat_id\" FROM \"paper_paper\" WHERE \"paper_paper\".\"id\" IN (17, 18) ORDER BY \"paper_paper\".\"time_create\" DESC, \"paper_paper\".\"title\" ASC LIMIT 21',\n",
       "  'time': '0.000'},\n",
       " {'sql': 'SELECT \"paper_paper\".\"id\", \"paper_paper\".\"title\", \"paper_paper\".\"slug\", \"paper_paper\".\"content\", \"paper_paper\".\"photo\", \"paper_paper\".\"time_create\", \"paper_paper\".\"time_update\", \"paper_paper\".\"is_published\", \"paper_paper\".\"cat_id\" FROM \"paper_paper\" WHERE (\"paper_paper\".\"is_published\" AND \"paper_paper\".\"id\" IN (17, 18)) ORDER BY \"paper_paper\".\"time_create\" DESC, \"paper_paper\".\"title\" ASC LIMIT 21',\n",
       "  'time': '0.000'},\n",
       " {'sql': 'SELECT \"paper_paper\".\"id\", \"paper_paper\".\"title\", \"paper_paper\".\"slug\", \"paper_paper\".\"content\", \"paper_paper\".\"photo\", \"paper_paper\".\"time_create\", \"paper_paper\".\"time_update\", \"paper_paper\".\"is_published\", \"paper_paper\".\"cat_id\" FROM \"paper_paper\" WHERE \"paper_paper\".\"cat_id\" IN (SELECT \"paper_categories\".\"id\" FROM \"paper_categories\") ORDER BY \"paper_paper\".\"time_create\" DESC, \"paper_paper\".\"title\" ASC LIMIT 21',\n",
       "  'time': '0.000'},\n",
       " {'sql': 'SELECT \"paper_paper\".\"id\", \"paper_paper\".\"title\", \"paper_paper\".\"slug\", \"paper_paper\".\"content\", \"paper_paper\".\"photo\", \"paper_paper\".\"time_create\", \"paper_paper\".\"time_update\", \"paper_paper\".\"is_published\", \"paper_paper\".\"cat_id\" FROM \"paper_paper\" WHERE (\"paper_paper\".\"id\" = 18 OR \"paper_paper\".\"title\" = \\'покамир\\') ORDER BY \"paper_paper\".\"time_create\" DESC, \"paper_paper\".\"title\" ASC LIMIT 21',\n",
       "  'time': '0.000'},\n",
       " {'sql': 'SELECT \"paper_paper\".\"id\", \"paper_paper\".\"title\", \"paper_paper\".\"slug\", \"paper_paper\".\"content\", \"paper_paper\".\"photo\", \"paper_paper\".\"time_create\", \"paper_paper\".\"time_update\", \"paper_paper\".\"is_published\", \"paper_paper\".\"cat_id\" FROM \"paper_paper\" WHERE (\"paper_paper\".\"id\" = 17 OR \"paper_paper\".\"title\" = \\'покамир\\') ORDER BY \"paper_paper\".\"time_create\" DESC, \"paper_paper\".\"title\" ASC LIMIT 21',\n",
       "  'time': '0.000'},\n",
       " {'sql': 'SELECT \"paper_paper\".\"id\", \"paper_paper\".\"title\", \"paper_paper\".\"slug\", \"paper_paper\".\"content\", \"paper_paper\".\"photo\", \"paper_paper\".\"time_create\", \"paper_paper\".\"time_update\", \"paper_paper\".\"is_published\", \"paper_paper\".\"cat_id\" FROM \"paper_paper\" WHERE (\"paper_paper\".\"id\" = 17 OR \"paper_paper\".\"title\" = \\'покамир\\') ORDER BY \"paper_paper\".\"time_create\" DESC, \"paper_paper\".\"title\" ASC LIMIT 21',\n",
       "  'time': '0.000'},\n",
       " {'sql': 'SELECT \"paper_paper\".\"id\", \"paper_paper\".\"title\", \"paper_paper\".\"slug\", \"paper_paper\".\"content\", \"paper_paper\".\"photo\", \"paper_paper\".\"time_create\", \"paper_paper\".\"time_update\", \"paper_paper\".\"is_published\", \"paper_paper\".\"cat_id\" FROM \"paper_paper\" WHERE (\"paper_paper\".\"id\" = 17 AND \"paper_paper\".\"title\" = \\'покамир\\') ORDER BY \"paper_paper\".\"time_create\" DESC, \"paper_paper\".\"title\" ASC LIMIT 21',\n",
       "  'time': '0.000'},\n",
       " {'sql': 'SELECT \"paper_paper\".\"id\", \"paper_paper\".\"title\", \"paper_paper\".\"slug\", \"paper_paper\".\"content\", \"paper_paper\".\"photo\", \"paper_paper\".\"time_create\", \"paper_paper\".\"time_update\", \"paper_paper\".\"is_published\", \"paper_paper\".\"cat_id\" FROM \"paper_paper\" WHERE (NOT (\"paper_paper\".\"id\" = 17) AND \"paper_paper\".\"title\" = \\'покамир\\') ORDER BY \"paper_paper\".\"time_create\" DESC, \"paper_paper\".\"title\" ASC LIMIT 21',\n",
       "  'time': '0.000'},\n",
       " {'sql': 'SELECT \"paper_paper\".\"id\", \"paper_paper\".\"title\", \"paper_paper\".\"slug\", \"paper_paper\".\"content\", \"paper_paper\".\"photo\", \"paper_paper\".\"time_create\", \"paper_paper\".\"time_update\", \"paper_paper\".\"is_published\", \"paper_paper\".\"cat_id\" FROM \"paper_paper\" ORDER BY \"paper_paper\".\"time_create\" DESC, \"paper_paper\".\"title\" ASC LIMIT 1',\n",
       "  'time': '0.000'},\n",
       " {'sql': 'SELECT \"paper_paper\".\"id\", \"paper_paper\".\"title\", \"paper_paper\".\"slug\", \"paper_paper\".\"content\", \"paper_paper\".\"photo\", \"paper_paper\".\"time_create\", \"paper_paper\".\"time_update\", \"paper_paper\".\"is_published\", \"paper_paper\".\"cat_id\" FROM \"paper_paper\" ORDER BY \"paper_paper\".\"time_create\" DESC, \"paper_paper\".\"title\" ASC LIMIT 1',\n",
       "  'time': '0.000'},\n",
       " {'sql': 'SELECT \"paper_paper\".\"id\", \"paper_paper\".\"title\", \"paper_paper\".\"slug\", \"paper_paper\".\"content\", \"paper_paper\".\"photo\", \"paper_paper\".\"time_create\", \"paper_paper\".\"time_update\", \"paper_paper\".\"is_published\", \"paper_paper\".\"cat_id\" FROM \"paper_paper\" ORDER BY \"paper_paper\".\"time_create\" DESC, \"paper_paper\".\"title\" ASC LIMIT 1',\n",
       "  'time': '0.000'},\n",
       " {'sql': 'SELECT \"paper_paper\".\"id\", \"paper_paper\".\"title\", \"paper_paper\".\"slug\", \"paper_paper\".\"content\", \"paper_paper\".\"photo\", \"paper_paper\".\"time_create\", \"paper_paper\".\"time_update\", \"paper_paper\".\"is_published\", \"paper_paper\".\"cat_id\" FROM \"paper_paper\" ORDER BY \"paper_paper\".\"time_update\" DESC LIMIT 1',\n",
       "  'time': '0.000'},\n",
       " {'sql': 'SELECT \"paper_paper\".\"id\", \"paper_paper\".\"title\", \"paper_paper\".\"slug\", \"paper_paper\".\"content\", \"paper_paper\".\"photo\", \"paper_paper\".\"time_create\", \"paper_paper\".\"time_update\", \"paper_paper\".\"is_published\", \"paper_paper\".\"cat_id\" FROM \"paper_paper\" ORDER BY \"paper_paper\".\"time_update\" DESC LIMIT 1',\n",
       "  'time': '0.000'},\n",
       " {'sql': 'SELECT \"paper_paper\".\"id\", \"paper_paper\".\"title\", \"paper_paper\".\"slug\", \"paper_paper\".\"content\", \"paper_paper\".\"photo\", \"paper_paper\".\"time_create\", \"paper_paper\".\"time_update\", \"paper_paper\".\"is_published\", \"paper_paper\".\"cat_id\" FROM \"paper_paper\" ORDER BY \"paper_paper\".\"time_update\" ASC LIMIT 1',\n",
       "  'time': '0.000'},\n",
       " {'sql': 'SELECT \"paper_paper\".\"id\", \"paper_paper\".\"title\", \"paper_paper\".\"slug\", \"paper_paper\".\"content\", \"paper_paper\".\"photo\", \"paper_paper\".\"time_create\", \"paper_paper\".\"time_update\", \"paper_paper\".\"is_published\", \"paper_paper\".\"cat_id\" FROM \"paper_paper\" ORDER BY \"paper_paper\".\"time_update\" ASC LIMIT 1',\n",
       "  'time': '0.000'},\n",
       " {'sql': 'SELECT \"paper_paper\".\"id\", \"paper_paper\".\"title\", \"paper_paper\".\"slug\", \"paper_paper\".\"content\", \"paper_paper\".\"photo\", \"paper_paper\".\"time_create\", \"paper_paper\".\"time_update\", \"paper_paper\".\"is_published\", \"paper_paper\".\"cat_id\" FROM \"paper_paper\" WHERE \"paper_paper\".\"id\" = 17 LIMIT 21',\n",
       "  'time': '0.000'},\n",
       " {'sql': 'SELECT \"paper_paper\".\"id\", \"paper_paper\".\"title\", \"paper_paper\".\"slug\", \"paper_paper\".\"content\", \"paper_paper\".\"photo\", \"paper_paper\".\"time_create\", \"paper_paper\".\"time_update\", \"paper_paper\".\"is_published\", \"paper_paper\".\"cat_id\" FROM \"paper_paper\" WHERE \"paper_paper\".\"id\" = 17 LIMIT 21',\n",
       "  'time': '0.000'},\n",
       " {'sql': 'SELECT \"paper_paper\".\"id\", \"paper_paper\".\"title\", \"paper_paper\".\"slug\", \"paper_paper\".\"content\", \"paper_paper\".\"photo\", \"paper_paper\".\"time_create\", \"paper_paper\".\"time_update\", \"paper_paper\".\"is_published\", \"paper_paper\".\"cat_id\" FROM \"paper_paper\" WHERE \"paper_paper\".\"id\" = 17 LIMIT 21',\n",
       "  'time': '0.000'},\n",
       " {'sql': 'SELECT \"paper_paper\".\"id\", \"paper_paper\".\"title\", \"paper_paper\".\"slug\", \"paper_paper\".\"content\", \"paper_paper\".\"photo\", \"paper_paper\".\"time_create\", \"paper_paper\".\"time_update\", \"paper_paper\".\"is_published\", \"paper_paper\".\"cat_id\" FROM \"paper_paper\" WHERE \"paper_paper\".\"id\" = 17 LIMIT 21',\n",
       "  'time': '0.000'},\n",
       " {'sql': 'SELECT \"paper_paper\".\"id\", \"paper_paper\".\"title\", \"paper_paper\".\"slug\", \"paper_paper\".\"content\", \"paper_paper\".\"photo\", \"paper_paper\".\"time_create\", \"paper_paper\".\"time_update\", \"paper_paper\".\"is_published\", \"paper_paper\".\"cat_id\" FROM \"paper_paper\" WHERE \"paper_paper\".\"id\" = 17 LIMIT 21',\n",
       "  'time': '0.000'},\n",
       " {'sql': 'SELECT \"paper_categories\".\"id\", \"paper_categories\".\"name\", \"paper_categories\".\"slug\" FROM \"paper_categories\" WHERE \"paper_categories\".\"id\" = 5 LIMIT 21',\n",
       "  'time': '0.000'},\n",
       " {'sql': 'SELECT \"paper_paper\".\"id\", \"paper_paper\".\"title\", \"paper_paper\".\"slug\", \"paper_paper\".\"content\", \"paper_paper\".\"photo\", \"paper_paper\".\"time_create\", \"paper_paper\".\"time_update\", \"paper_paper\".\"is_published\", \"paper_paper\".\"cat_id\" FROM \"paper_paper\" WHERE \"paper_paper\".\"id\" = 17 LIMIT 21',\n",
       "  'time': '0.000'},\n",
       " {'sql': 'SELECT \"paper_paper\".\"id\", \"paper_paper\".\"title\", \"paper_paper\".\"slug\", \"paper_paper\".\"content\", \"paper_paper\".\"photo\", \"paper_paper\".\"time_create\", \"paper_paper\".\"time_update\", \"paper_paper\".\"is_published\", \"paper_paper\".\"cat_id\" FROM \"paper_paper\" WHERE \"paper_paper\".\"id\" = 17 LIMIT 21',\n",
       "  'time': '0.000'},\n",
       " {'sql': 'SELECT \"paper_paper\".\"id\", \"paper_paper\".\"title\", \"paper_paper\".\"slug\", \"paper_paper\".\"content\", \"paper_paper\".\"photo\", \"paper_paper\".\"time_create\", \"paper_paper\".\"time_update\", \"paper_paper\".\"is_published\", \"paper_paper\".\"cat_id\" FROM \"paper_paper\" WHERE ((\"paper_paper\".\"time_create\" = \\'2023-07-17 12:18:00.430626\\' AND \"paper_paper\".\"id\" < 17) OR \"paper_paper\".\"time_create\" < \\'2023-07-17 12:18:00.430626\\') ORDER BY \"paper_paper\".\"time_create\" DESC, \"paper_paper\".\"id\" DESC LIMIT 1',\n",
       "  'time': '0.000'},\n",
       " {'sql': 'SELECT \"paper_paper\".\"id\", \"paper_paper\".\"title\", \"paper_paper\".\"slug\", \"paper_paper\".\"content\", \"paper_paper\".\"photo\", \"paper_paper\".\"time_create\", \"paper_paper\".\"time_update\", \"paper_paper\".\"is_published\", \"paper_paper\".\"cat_id\" FROM \"paper_paper\" WHERE \"paper_paper\".\"id\" = 17 LIMIT 21',\n",
       "  'time': '0.000'},\n",
       " {'sql': 'SELECT \"paper_paper\".\"id\", \"paper_paper\".\"title\", \"paper_paper\".\"slug\", \"paper_paper\".\"content\", \"paper_paper\".\"photo\", \"paper_paper\".\"time_create\", \"paper_paper\".\"time_update\", \"paper_paper\".\"is_published\", \"paper_paper\".\"cat_id\" FROM \"paper_paper\" WHERE ((\"paper_paper\".\"time_update\" = \\'2023-07-17 13:09:40.554384\\' AND \"paper_paper\".\"id\" < 17) OR \"paper_paper\".\"time_update\" < \\'2023-07-17 13:09:40.554384\\') ORDER BY \"paper_paper\".\"time_update\" DESC, \"paper_paper\".\"id\" DESC LIMIT 1',\n",
       "  'time': '0.000'},\n",
       " {'sql': 'INSERT INTO \"paper_categories\" (\"name\", \"slug\") VALUES (\\'new_cat\\', \\'new_new\\') RETURNING \"paper_categories\".\"id\"',\n",
       "  'time': '0.000'},\n",
       " {'sql': 'SELECT \"paper_categories\".\"id\", \"paper_categories\".\"name\", \"paper_categories\".\"slug\" FROM \"paper_categories\" WHERE \"paper_categories\".\"name\" = \\'new_cat\\' LIMIT 21',\n",
       "  'time': '0.000'},\n",
       " {'sql': 'SELECT \"paper_categories\".\"id\", \"paper_categories\".\"name\", \"paper_categories\".\"slug\" FROM \"paper_categories\" WHERE \"paper_categories\".\"name\" = \\'new_cat\\' LIMIT 21',\n",
       "  'time': '0.000'},\n",
       " {'sql': 'SELECT \"paper_categories\".\"id\", \"paper_categories\".\"name\", \"paper_categories\".\"slug\" FROM \"paper_categories\" WHERE \"paper_categories\".\"name\" = \\'new_cat\\' LIMIT 21',\n",
       "  'time': '0.000'},\n",
       " {'sql': 'SELECT \"paper_categories\".\"id\", \"paper_categories\".\"name\", \"paper_categories\".\"slug\" FROM \"paper_categories\" WHERE \"paper_categories\".\"name\" = \\'new_cat\\' LIMIT 21',\n",
       "  'time': '0.000'},\n",
       " {'sql': 'SELECT \"paper_categories\".\"id\", \"paper_categories\".\"name\", \"paper_categories\".\"slug\" FROM \"paper_categories\" WHERE \"paper_categories\".\"name\" = \\'new_cat\\' LIMIT 21',\n",
       "  'time': '0.000'},\n",
       " {'sql': 'SELECT 1 AS \"a\" FROM \"paper_paper\" WHERE \"paper_paper\".\"cat_id\" = 7 LIMIT 1',\n",
       "  'time': '0.000'},\n",
       " {'sql': 'SELECT \"paper_categories\".\"id\", \"paper_categories\".\"name\", \"paper_categories\".\"slug\" FROM \"paper_categories\" WHERE \"paper_categories\".\"name\" = \\'new_cat\\' LIMIT 21',\n",
       "  'time': '0.000'},\n",
       " {'sql': 'SELECT 1 AS \"a\" FROM \"paper_paper\" WHERE \"paper_paper\".\"cat_id\" = 7 LIMIT 1',\n",
       "  'time': '0.000'},\n",
       " {'sql': 'SELECT \"paper_categories\".\"id\", \"paper_categories\".\"name\", \"paper_categories\".\"slug\" FROM \"paper_categories\" WHERE \"paper_categories\".\"name\" = \\'первая\\' LIMIT 21',\n",
       "  'time': '0.000'},\n",
       " {'sql': 'SELECT 1 AS \"a\" FROM \"paper_paper\" WHERE \"paper_paper\".\"cat_id\" = 5 LIMIT 1',\n",
       "  'time': '0.000'},\n",
       " {'sql': 'SELECT \"paper_categories\".\"id\", \"paper_categories\".\"name\", \"paper_categories\".\"slug\" FROM \"paper_categories\" WHERE \"paper_categories\".\"name\" = \\'new_cat\\' LIMIT 21',\n",
       "  'time': '0.000'},\n",
       " {'sql': 'SELECT 1 AS \"a\" FROM \"paper_paper\" WHERE \"paper_paper\".\"cat_id\" = 7 LIMIT 1',\n",
       "  'time': '0.000'},\n",
       " {'sql': 'SELECT COUNT(*) AS \"__count\" FROM \"paper_categories\"',\n",
       "  'time': '0.000'},\n",
       " {'sql': 'SELECT \"paper_categories\".\"id\", \"paper_categories\".\"name\", \"paper_categories\".\"slug\" FROM \"paper_categories\" ORDER BY \"paper_categories\".\"id\" DESC, \"paper_categories\".\"name\" ASC LIMIT 1',\n",
       "  'time': '0.000'},\n",
       " {'sql': 'SELECT \"paper_categories\".\"id\", \"paper_categories\".\"name\", \"paper_categories\".\"slug\" FROM \"paper_categories\" ORDER BY \"paper_categories\".\"id\" DESC, \"paper_categories\".\"name\" ASC LIMIT 21',\n",
       "  'time': '0.000'},\n",
       " {'sql': 'SELECT \"paper_categories\".\"id\", \"paper_categories\".\"name\", \"paper_categories\".\"slug\" FROM \"paper_categories\" ORDER BY \"paper_categories\".\"id\" DESC, \"paper_categories\".\"name\" ASC LIMIT 1',\n",
       "  'time': '0.000'},\n",
       " {'sql': 'SELECT \"paper_categories\".\"id\", \"paper_categories\".\"name\", \"paper_categories\".\"slug\" FROM \"paper_categories\" WHERE \"paper_categories\".\"id\" = 2 LIMIT 21',\n",
       "  'time': '0.000'},\n",
       " {'sql': 'SELECT \"paper_categories\".\"id\", \"paper_categories\".\"name\", \"paper_categories\".\"slug\" FROM \"paper_categories\" WHERE \"paper_categories\".\"id\" = 7 LIMIT 21',\n",
       "  'time': '0.000'},\n",
       " {'sql': 'SELECT \"paper_categories\".\"id\", \"paper_categories\".\"name\", \"paper_categories\".\"slug\" FROM \"paper_categories\" WHERE \"paper_categories\".\"id\" = 7 LIMIT 21',\n",
       "  'time': '0.000'},\n",
       " {'sql': 'SELECT \"paper_categories\".\"id\", \"paper_categories\".\"name\", \"paper_categories\".\"slug\" FROM \"paper_categories\" ORDER BY \"paper_categories\".\"id\" DESC, \"paper_categories\".\"name\" ASC LIMIT 1',\n",
       "  'time': '0.000'},\n",
       " {'sql': 'SELECT \"paper_categories\".\"id\", \"paper_categories\".\"name\", \"paper_categories\".\"slug\" FROM \"paper_categories\" ORDER BY \"paper_categories\".\"id\" DESC, \"paper_categories\".\"name\" ASC LIMIT 1',\n",
       "  'time': '0.000'},\n",
       " {'sql': 'SELECT \"paper_categories\".\"id\", \"paper_categories\".\"name\", \"paper_categories\".\"slug\" FROM \"paper_categories\" ORDER BY \"paper_categories\".\"id\" DESC, \"paper_categories\".\"name\" ASC LIMIT 1',\n",
       "  'time': '0.000'},\n",
       " {'sql': 'SELECT COUNT(*) AS \"__count\" FROM \"paper_paper\" WHERE \"paper_paper\".\"cat_id\" = 7',\n",
       "  'time': '0.000'},\n",
       " {'sql': 'SELECT \"paper_categories\".\"id\", \"paper_categories\".\"name\", \"paper_categories\".\"slug\" FROM \"paper_categories\" ORDER BY \"paper_categories\".\"id\" DESC, \"paper_categories\".\"name\" ASC LIMIT 1 OFFSET 1',\n",
       "  'time': '0.000'},\n",
       " {'sql': 'SELECT COUNT(*) AS \"__count\" FROM \"paper_paper\" WHERE \"paper_paper\".\"cat_id\" = 6',\n",
       "  'time': '0.000'},\n",
       " {'sql': 'SELECT \"paper_categories\".\"id\", \"paper_categories\".\"name\", \"paper_categories\".\"slug\" FROM \"paper_categories\" ORDER BY \"paper_categories\".\"id\" DESC, \"paper_categories\".\"name\" ASC LIMIT 1 OFFSET 3',\n",
       "  'time': '0.000'},\n",
       " {'sql': 'SELECT COUNT(*) AS \"__count\" FROM \"paper_paper\" WHERE \"paper_paper\".\"cat_id\" = 6',\n",
       "  'time': '0.000'},\n",
       " {'sql': 'SELECT COUNT(*) AS \"__count\" FROM \"paper_paper\" WHERE \"paper_paper\".\"cat_id\" = 6',\n",
       "  'time': '0.000'},\n",
       " {'sql': 'SELECT \"paper_categories\".\"id\", \"paper_categories\".\"name\", \"paper_categories\".\"slug\" FROM \"paper_categories\" ORDER BY \"paper_categories\".\"id\" DESC, \"paper_categories\".\"name\" ASC LIMIT 21',\n",
       "  'time': '0.000'},\n",
       " {'sql': 'SELECT COUNT(*) AS \"__count\" FROM \"paper_paper\" WHERE \"paper_paper\".\"cat_id\" = 6',\n",
       "  'time': '0.000'},\n",
       " {'sql': 'SELECT \"paper_paper\".\"id\", \"paper_paper\".\"title\", \"paper_paper\".\"slug\", \"paper_paper\".\"content\", \"paper_paper\".\"photo\", \"paper_paper\".\"time_create\", \"paper_paper\".\"time_update\", \"paper_paper\".\"is_published\", \"paper_paper\".\"cat_id\" FROM \"paper_paper\" INNER JOIN \"paper_categories\" ON (\"paper_paper\".\"cat_id\" = \"paper_categories\".\"id\") WHERE \"paper_categories\".\"slug\" = \\'test\\' ORDER BY \"paper_paper\".\"time_create\" DESC, \"paper_paper\".\"title\" ASC LIMIT 21',\n",
       "  'time': '0.000'},\n",
       " {'sql': 'SELECT \"paper_paper\".\"id\", \"paper_paper\".\"title\", \"paper_paper\".\"slug\", \"paper_paper\".\"content\", \"paper_paper\".\"photo\", \"paper_paper\".\"time_create\", \"paper_paper\".\"time_update\", \"paper_paper\".\"is_published\", \"paper_paper\".\"cat_id\" FROM \"paper_paper\" INNER JOIN \"paper_categories\" ON (\"paper_paper\".\"cat_id\" = \"paper_categories\".\"id\") WHERE \"paper_categories\".\"slug\" = \\'pervaya\\' ORDER BY \"paper_paper\".\"time_create\" DESC, \"paper_paper\".\"title\" ASC LIMIT 21',\n",
       "  'time': '0.000'},\n",
       " {'sql': 'SELECT \"paper_paper\".\"id\", \"paper_paper\".\"title\", \"paper_paper\".\"slug\", \"paper_paper\".\"content\", \"paper_paper\".\"photo\", \"paper_paper\".\"time_create\", \"paper_paper\".\"time_update\", \"paper_paper\".\"is_published\", \"paper_paper\".\"cat_id\" FROM \"paper_paper\" INNER JOIN \"paper_categories\" ON (\"paper_paper\".\"cat_id\" = \"paper_categories\".\"id\") WHERE \"paper_categories\".\"name\" = \\'первая\\' ORDER BY \"paper_paper\".\"time_create\" DESC, \"paper_paper\".\"title\" ASC LIMIT 21',\n",
       "  'time': '0.000'},\n",
       " {'sql': 'SELECT \"paper_paper\".\"id\", \"paper_paper\".\"title\", \"paper_paper\".\"slug\", \"paper_paper\".\"content\", \"paper_paper\".\"photo\", \"paper_paper\".\"time_create\", \"paper_paper\".\"time_update\", \"paper_paper\".\"is_published\", \"paper_paper\".\"cat_id\" FROM \"paper_paper\" INNER JOIN \"paper_categories\" ON (\"paper_paper\".\"cat_id\" = \"paper_categories\".\"id\") WHERE \"paper_categories\".\"name\" = \\'первая\\' ORDER BY \"paper_paper\".\"time_create\" DESC, \"paper_paper\".\"title\" ASC LIMIT 21',\n",
       "  'time': '0.000'},\n",
       " {'sql': 'SELECT \"paper_paper\".\"id\", \"paper_paper\".\"title\", \"paper_paper\".\"slug\", \"paper_paper\".\"content\", \"paper_paper\".\"photo\", \"paper_paper\".\"time_create\", \"paper_paper\".\"time_update\", \"paper_paper\".\"is_published\", \"paper_paper\".\"cat_id\" FROM \"paper_paper\" INNER JOIN \"paper_categories\" ON (\"paper_paper\".\"cat_id\" = \"paper_categories\".\"id\") WHERE \"paper_categories\".\"slug\" = \\'vtoraya\\' ORDER BY \"paper_paper\".\"time_create\" DESC, \"paper_paper\".\"title\" ASC LIMIT 21',\n",
       "  'time': '0.000'},\n",
       " {'sql': 'SELECT \"paper_categories\".\"id\", \"paper_categories\".\"name\", \"paper_categories\".\"slug\" FROM \"paper_categories\" INNER JOIN \"paper_paper\" ON (\"paper_categories\".\"id\" = \"paper_paper\".\"cat_id\") WHERE \"paper_paper\".\"title\" LIKE \\'%ли%\\' ESCAPE \\'\\\\\\' ORDER BY \"paper_categories\".\"id\" DESC, \"paper_categories\".\"name\" ASC LIMIT 21',\n",
       "  'time': '0.000'},\n",
       " {'sql': 'SELECT \"paper_categories\".\"id\", \"paper_categories\".\"name\", \"paper_categories\".\"slug\" FROM \"paper_categories\" INNER JOIN \"paper_paper\" ON (\"paper_categories\".\"id\" = \"paper_paper\".\"cat_id\") WHERE \"paper_paper\".\"title\" LIKE \\'%t%\\' ESCAPE \\'\\\\\\' ORDER BY \"paper_categories\".\"id\" DESC, \"paper_categories\".\"name\" ASC LIMIT 21',\n",
       "  'time': '0.000'},\n",
       " {'sql': 'SELECT \"paper_categories\".\"id\", \"paper_categories\".\"name\", \"paper_categories\".\"slug\" FROM \"paper_categories\" INNER JOIN \"paper_paper\" ON (\"paper_categories\".\"id\" = \"paper_paper\".\"cat_id\") WHERE \"paper_paper\".\"title\" LIKE \\'%h%\\' ESCAPE \\'\\\\\\' ORDER BY \"paper_categories\".\"id\" DESC, \"paper_categories\".\"name\" ASC LIMIT 21',\n",
       "  'time': '0.000'},\n",
       " {'sql': 'SELECT \"paper_categories\".\"id\", \"paper_categories\".\"name\", \"paper_categories\".\"slug\" FROM \"paper_categories\" INNER JOIN \"paper_paper\" ON (\"paper_categories\".\"id\" = \"paper_paper\".\"cat_id\") WHERE \"paper_paper\".\"title\" LIKE \\'%п%\\' ESCAPE \\'\\\\\\' ORDER BY \"paper_categories\".\"id\" DESC, \"paper_categories\".\"name\" ASC LIMIT 21',\n",
       "  'time': '0.000'},\n",
       " {'sql': 'SELECT \"paper_categories\".\"id\", \"paper_categories\".\"name\", \"paper_categories\".\"slug\" FROM \"paper_categories\" INNER JOIN \"paper_paper\" ON (\"paper_categories\".\"id\" = \"paper_paper\".\"cat_id\") WHERE \"paper_paper\".\"title\" LIKE \\'%п%\\' ESCAPE \\'\\\\\\' ORDER BY \"paper_categories\".\"id\" DESC, \"paper_categories\".\"name\" ASC LIMIT 21',\n",
       "  'time': '0.000'},\n",
       " {'sql': 'SELECT DISTINCT \"paper_categories\".\"id\", \"paper_categories\".\"name\", \"paper_categories\".\"slug\" FROM \"paper_categories\" INNER JOIN \"paper_paper\" ON (\"paper_categories\".\"id\" = \"paper_paper\".\"cat_id\") WHERE \"paper_paper\".\"title\" LIKE \\'%п%\\' ESCAPE \\'\\\\\\' ORDER BY \"paper_categories\".\"id\" DESC, \"paper_categories\".\"name\" ASC LIMIT 21',\n",
       "  'time': '0.000'},\n",
       " {'sql': 'SELECT MIN(\"paper_paper\".\"title\") AS \"title__min\" FROM \"paper_paper\"',\n",
       "  'time': '0.000'},\n",
       " {'sql': 'SELECT MIN(\"paper_paper\".\"title\") AS \"one\" FROM \"paper_paper\"',\n",
       "  'time': '0.000'},\n",
       " {'sql': 'SELECT MIN(\"paper_paper\".\"title\") AS \"example\" FROM \"paper_paper\"',\n",
       "  'time': '0.000'},\n",
       " {'sql': 'SELECT (SUM(\"paper_paper\".\"id\") + COUNT(\"paper_paper\".\"id\")) AS \"res\" FROM \"paper_paper\"',\n",
       "  'time': '0.000'},\n",
       " {'sql': 'SELECT \"paper_paper\".\"id\", \"paper_paper\".\"title\", \"paper_paper\".\"slug\", \"paper_paper\".\"content\", \"paper_paper\".\"photo\", \"paper_paper\".\"time_create\", \"paper_paper\".\"time_update\", \"paper_paper\".\"is_published\", \"paper_paper\".\"cat_id\" FROM \"paper_paper\" WHERE \"paper_paper\".\"id\" = 17 LIMIT 21',\n",
       "  'time': '0.000'},\n",
       " {'sql': 'SELECT \"paper_paper\".\"id\", \"paper_paper\".\"title\", \"paper_paper\".\"slug\", \"paper_paper\".\"content\", \"paper_paper\".\"photo\", \"paper_paper\".\"time_create\", \"paper_paper\".\"time_update\", \"paper_paper\".\"is_published\", \"paper_paper\".\"cat_id\" FROM \"paper_paper\" WHERE \"paper_paper\".\"id\" = 17 LIMIT 21',\n",
       "  'time': '0.000'},\n",
       " {'sql': 'SELECT \"paper_paper\".\"title\" FROM \"paper_paper\" WHERE \"paper_paper\".\"id\" = 17 LIMIT 21',\n",
       "  'time': '0.000'},\n",
       " {'sql': 'SELECT \"paper_paper\".\"cat_id\" FROM \"paper_paper\" ORDER BY \"paper_paper\".\"time_create\" DESC, \"paper_paper\".\"title\" ASC LIMIT 21',\n",
       "  'time': '0.000'},\n",
       " {'sql': 'SELECT \"paper_paper\".\"cat_id\", COUNT(\"paper_paper\".\"id\") AS \"id__count\" FROM \"paper_paper\" GROUP BY \"paper_paper\".\"cat_id\" LIMIT 21',\n",
       "  'time': '0.000'},\n",
       " {'sql': 'SELECT \"paper_paper\".\"cat_id\", COUNT(\"paper_paper\".\"id\") AS \"total\" FROM \"paper_paper\" GROUP BY \"paper_paper\".\"cat_id\" LIMIT 1',\n",
       "  'time': '0.000'},\n",
       " {'sql': 'SELECT \"paper_paper\".\"cat_id\", COUNT(\"paper_paper\".\"id\") AS \"total\" FROM \"paper_paper\" GROUP BY \"paper_paper\".\"cat_id\" LIMIT 21',\n",
       "  'time': '0.000'},\n",
       " {'sql': 'SELECT \"paper_paper\".\"cat_id\", COUNT(\"paper_paper\".\"id\") AS \"total\" FROM \"paper_paper\" GROUP BY \"paper_paper\".\"cat_id\" HAVING COUNT(\"paper_paper\".\"id\") > 0 LIMIT 21',\n",
       "  'time': '0.000'},\n",
       " {'sql': 'SELECT \"paper_paper\".\"cat_id\", COUNT(\"paper_paper\".\"id\") AS \"total\" FROM \"paper_paper\" GROUP BY \"paper_paper\".\"cat_id\" HAVING COUNT(\"paper_paper\".\"id\") > 1 LIMIT 21',\n",
       "  'time': '0.000'},\n",
       " {'sql': 'SELECT \"paper_paper\".\"cat_id\", COUNT(\"paper_paper\".\"id\") AS \"total\" FROM \"paper_paper\" GROUP BY \"paper_paper\".\"cat_id\" HAVING COUNT(\"paper_paper\".\"id\") > 1 LIMIT 21',\n",
       "  'time': '0.000'},\n",
       " {'sql': 'SELECT \"paper_paper\".\"id\", \"paper_paper\".\"title\", \"paper_paper\".\"slug\", \"paper_paper\".\"content\", \"paper_paper\".\"photo\", \"paper_paper\".\"time_create\", \"paper_paper\".\"time_update\", \"paper_paper\".\"is_published\", \"paper_paper\".\"cat_id\" FROM \"paper_paper\" WHERE \"paper_paper\".\"id\" > (\"paper_paper\".\"cat_id\") ORDER BY \"paper_paper\".\"time_create\" DESC, \"paper_paper\".\"title\" ASC LIMIT 21',\n",
       "  'time': '0.000'},\n",
       " {'sql': 'SELECT \"paper_paper\".\"id\", \"paper_paper\".\"title\", \"paper_paper\".\"slug\", \"paper_paper\".\"content\", \"paper_paper\".\"photo\", \"paper_paper\".\"time_create\", \"paper_paper\".\"time_update\", \"paper_paper\".\"is_published\", \"paper_paper\".\"cat_id\" FROM \"paper_paper\" ORDER BY \"paper_paper\".\"time_create\" DESC, \"paper_paper\".\"title\" ASC LIMIT 21',\n",
       "  'time': '0.000'}]"
      ]
     },
     "execution_count": 187,
     "metadata": {},
     "output_type": "execute_result"
    }
   ],
   "source": [
    "from django.db import connections\n",
    "connection.queries"
   ]
  },
  {
   "cell_type": "code",
   "execution_count": 194,
   "id": "87aa6aab",
   "metadata": {},
   "outputs": [
    {
     "data": {
      "text/plain": [
       "7"
      ]
     },
     "execution_count": 194,
     "metadata": {},
     "output_type": "execute_result"
    }
   ],
   "source": [
    "# Вычисление длинны строки\n",
    "from django.db.models.functions import Length\n",
    "ps = Paper.objects.annotate(l=Length('title'))\n",
    "ps[0].l"
   ]
  },
  {
   "cell_type": "code",
   "execution_count": 195,
   "id": "e68e56a1",
   "metadata": {},
   "outputs": [],
   "source": [
    "# RAW sql\n",
    "# Manager.raw(<sql>)"
   ]
  },
  {
   "cell_type": "code",
   "execution_count": 200,
   "id": "2334a226",
   "metadata": {},
   "outputs": [
    {
     "name": "stdout",
     "output_type": "stream",
     "text": [
      "приветмир\n"
     ]
    }
   ],
   "source": [
    "w = Paper.objects.raw('SELECT * FROM paper_paper')\n",
    "x = iter(w)\n",
    "print(next(x))"
   ]
  },
  {
   "cell_type": "code",
   "execution_count": 201,
   "id": "0d70a037",
   "metadata": {},
   "outputs": [
    {
     "name": "stdout",
     "output_type": "stream",
     "text": [
      "[]\n"
     ]
    }
   ],
   "source": [
    "# очищаем последние SQL запросы\n",
    "from django.db import reset_queries\n",
    "reset_queries()\n",
    "print(connection.queries)"
   ]
  },
  {
   "cell_type": "code",
   "execution_count": 204,
   "id": "fa2a8d62",
   "metadata": {},
   "outputs": [
    {
     "name": "stdout",
     "output_type": "stream",
     "text": [
      "[]\n"
     ]
    }
   ],
   "source": [
    "w = Paper.objects.raw('SELECT * FROM paper_paper')\n",
    "w\n",
    "print(connection.queries)"
   ]
  },
  {
   "cell_type": "code",
   "execution_count": 205,
   "id": "99436fa2",
   "metadata": {},
   "outputs": [
    {
     "data": {
      "text/plain": [
       "<Paper: приветмир>"
      ]
     },
     "execution_count": 205,
     "metadata": {},
     "output_type": "execute_result"
    }
   ],
   "source": [
    "# мы получили пустой список по причине\n",
    "# до тех пор, пока мы не читаем переменную w ни одного SQL запроса сгенерировано не будет\n",
    "# но если мы сейчас выполним следующее\n",
    "w[0]"
   ]
  },
  {
   "cell_type": "code",
   "execution_count": 207,
   "id": "ec3d2208",
   "metadata": {},
   "outputs": [
    {
     "data": {
      "text/plain": [
       "[{'sql': 'SELECT * FROM paper_paper', 'time': '0.000'}]"
      ]
     },
     "execution_count": 207,
     "metadata": {},
     "output_type": "execute_result"
    }
   ],
   "source": [
    "# sql запрос будет сгенерирован\n",
    "connection.queries"
   ]
  },
  {
   "cell_type": "code",
   "execution_count": 210,
   "id": "1a71b6c5",
   "metadata": {},
   "outputs": [],
   "source": [
    "# когда мы прописываем конкретный sql запрос, то мы должны обязательно включать поле id иначе будет ошибка\n",
    "w = Paper.objects.raw('SELECT id, title FROM paper_paper')"
   ]
  },
  {
   "cell_type": "code",
   "execution_count": 213,
   "id": "b6af705c",
   "metadata": {},
   "outputs": [
    {
     "name": "stdout",
     "output_type": "stream",
     "text": [
      "[<Paper: приветмир>, <Paper: покамир>, <Paper: onemore>]\n"
     ]
    }
   ],
   "source": [
    "print(list(w))"
   ]
  },
  {
   "cell_type": "code",
   "execution_count": 214,
   "id": "36c96e09",
   "metadata": {},
   "outputs": [],
   "source": [
    "# учитывая, что мы делали запрос только на title. Мы можем также обратиться к другому полю"
   ]
  },
  {
   "cell_type": "code",
   "execution_count": 215,
   "id": "24b214c5",
   "metadata": {},
   "outputs": [
    {
     "data": {
      "text/plain": [
       "True"
      ]
     },
     "execution_count": 215,
     "metadata": {},
     "output_type": "execute_result"
    }
   ],
   "source": [
    "list(w)[0].is_published"
   ]
  },
  {
   "cell_type": "code",
   "execution_count": 216,
   "id": "07539a53",
   "metadata": {},
   "outputs": [],
   "source": [
    "# это произошло по причине того, что происходит \"отложенная загрузка полей\"\n",
    "# происходит дополнительное обращение к базе данных для его получения"
   ]
  },
  {
   "cell_type": "code",
   "execution_count": 217,
   "id": "d1d2adb4",
   "metadata": {},
   "outputs": [],
   "source": [
    "# хорошая практика для raw чтобы не было sql инъекций \n",
    "Paper.objects.raw(\"SELECT id, title from '%s'\", [var])"
   ]
  }
 ],
 "metadata": {
  "kernelspec": {
   "display_name": "Django Shell-Plus",
   "language": "python",
   "name": "django_extensions"
  },
  "language_info": {
   "codemirror_mode": {
    "name": "ipython",
    "version": 3
   },
   "file_extension": ".py",
   "mimetype": "text/x-python",
   "name": "python",
   "nbconvert_exporter": "python",
   "pygments_lexer": "ipython3",
   "version": "3.10.1"
  }
 },
 "nbformat": 4,
 "nbformat_minor": 5
}
