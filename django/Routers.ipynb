{
 "cells": [
  {
   "cell_type": "code",
   "execution_count": 2,
   "id": "f0c95ab6",
   "metadata": {},
   "outputs": [],
   "source": [
    "# fix notebook\n",
    "import os, django\n",
    "os.environ.setdefault('DJANGO_SETTINGS_MODULE', 'rest.settings')\n",
    "os.environ[\"DJANGO_ALLOW_ASYNC_UNSAFE\"] = \"true\"\n",
    "django.setup()"
   ]
  },
  {
   "cell_type": "markdown",
   "id": "8ceb2a1d",
   "metadata": {},
   "source": [
    "# Роутеры\n",
    "\n",
    "### Определяем стандартные маршруты для viewset\n",
    "[Документация](https://www.django-rest-framework.org/api-guide/routers/)"
   ]
  },
  {
   "cell_type": "code",
   "execution_count": 30,
   "id": "0ba87239",
   "metadata": {},
   "outputs": [],
   "source": [
    "from rest_framework import generics, viewsets, mixins\n",
    "from rest_framework.decorators import action\n",
    "from paper.models import Paper\n",
    "from paper.serializers import PaperSerializer\n",
    "from rest_framework.viewsets import GenericViewSet"
   ]
  },
  {
   "cell_type": "code",
   "execution_count": 28,
   "id": "9bdfb299",
   "metadata": {},
   "outputs": [],
   "source": [
    "class PaperViewSet(viewsets.ReadOnlyModelViewSet):\n",
    "    queryset = Paper.objects.all()\n",
    "    serializer_class = PaperSerializer"
   ]
  },
  {
   "cell_type": "code",
   "execution_count": 32,
   "id": "2460eba8",
   "metadata": {},
   "outputs": [
    {
     "name": "stdout",
     "output_type": "stream",
     "text": [
      "[<URLPattern '^paper/$' [name='paper-list']>, <URLPattern '^paper/test_action/$' [name='paper-test-action']>, <URLPattern '^paper/(?P<pk>[^/.]+)/$' [name='paper-detail']>]\n"
     ]
    }
   ],
   "source": [
    "from rest_framework import routers\n",
    "\n",
    "router = routers.SimpleRouter() # создаем объект роутера\n",
    "\n",
    "router.register(\n",
    "    r'paper', # префикс для набора маршрутов\n",
    "    PaperViewSet # класс viewset\n",
    ")\n",
    "print(router.urls)"
   ]
  },
  {
   "cell_type": "code",
   "execution_count": 9,
   "id": "a62a228b",
   "metadata": {},
   "outputs": [],
   "source": [
    "# прописываем в url.py набор маршрутов\n",
    "\n",
    "from django.urls import path, include\n",
    "\n",
    "urlpatterns = [\n",
    "    path('api/v1', include(router.urls)) # включаем все маршруты которые у нас были в urls .../api/v1/paper/\n",
    "]"
   ]
  },
  {
   "cell_type": "code",
   "execution_count": 23,
   "id": "b01af791",
   "metadata": {},
   "outputs": [
    {
     "name": "stdout",
     "output_type": "stream",
     "text": [
      "[<URLPattern '^paper/$' [name='paper-list']>,\n",
      " <URLPattern '^paper\\.(?P<format>[a-z0-9]+)/?$' [name='paper-list']>,\n",
      " <URLPattern '^paper/(?P<pk>[^/.]+)/$' [name='paper-detail']>,\n",
      " <URLPattern '^paper/(?P<pk>[^/.]+)\\.(?P<format>[a-z0-9]+)/?$' [name='paper-detail']>,\n",
      " <URLPattern '^$' [name='api-root']>,\n",
      " <URLPattern '^\\.(?P<format>[a-z0-9]+)/?$' [name='api-root']>]\n"
     ]
    }
   ],
   "source": [
    "# default router\n",
    "from pprint import pprint\n",
    "\n",
    "# <URLPattern '^paper/$' [name='paper-list']>,\n",
    "# paper-list сгенерировано благодаря имени модели paper, чтобы поменять это имя нужно указать basename=''\n",
    "# при этом, если queryset отсутствует, то параметр basename обязателен\n",
    "\n",
    "router = routers.DefaultRouter()\n",
    "\n",
    "router.register(\n",
    "    r'paper', # префикс для набора маршрутов\n",
    "    PaperViewSet # класс viewset\n",
    "#     basename='paper'\n",
    ")\n",
    "\n",
    "pprint(router.urls)\n",
    "\n",
    "# если вместо DefaultRouter использовать SimpleRouter, то маршрут /api/v1/ будет недоступен"
   ]
  },
  {
   "cell_type": "code",
   "execution_count": 14,
   "id": "78d1ef97",
   "metadata": {},
   "outputs": [
    {
     "name": "stdout",
     "output_type": "stream",
     "text": [
      "[<URLPattern '^paper/$' [name='paper-list']>,\n",
      " <URLPattern '^paper\\.(?P<format>[a-z0-9]+)/?$' [name='paper-list']>]\n"
     ]
    }
   ],
   "source": [
    "pprint(router.urls[0:2]) # отвечает за список статей /api/v1/paper/ и возможностью добавлять новые статьи \n",
    "# если такой функицонал предусмотрен"
   ]
  },
  {
   "cell_type": "code",
   "execution_count": 16,
   "id": "d0c8c379",
   "metadata": {},
   "outputs": [
    {
     "name": "stdout",
     "output_type": "stream",
     "text": [
      "[<URLPattern '^paper/(?P<pk>[^/.]+)/$' [name='paper-detail']>,\n",
      " <URLPattern '^paper/(?P<pk>[^/.]+)\\.(?P<format>[a-z0-9]+)/?$' [name='paper-detail']>]\n"
     ]
    }
   ],
   "source": [
    "pprint(router.urls[2:4]) # эта группа маршрутов отвечает за удаление статьи и за ее изменение /api/v1/paper/pk"
   ]
  },
  {
   "cell_type": "code",
   "execution_count": 22,
   "id": "656430a0",
   "metadata": {},
   "outputs": [
    {
     "name": "stdout",
     "output_type": "stream",
     "text": [
      "[<URLPattern '^$' [name='api-root']>,\n",
      " <URLPattern '^\\.(?P<format>[a-z0-9]+)/?$' [name='api-root']>]\n"
     ]
    }
   ],
   "source": [
    "pprint(router.urls[4::]) # существует только в default router возращает список маршрутов которые существуют в роутере\n",
    "# в SimpleRouter такого нет"
   ]
  },
  {
   "cell_type": "code",
   "execution_count": 24,
   "id": "ca60114d",
   "metadata": {},
   "outputs": [],
   "source": [
    "# <URLPattern '^paper/$' [name='paper-list']>\n",
    "# также можно везде заметить префикс paper-list он берется по имени модели 'from paper.models import Paper'\n",
    "# мы можем поменять только префикс маршрута"
   ]
  },
  {
   "cell_type": "code",
   "execution_count": 37,
   "id": "89e4f71f",
   "metadata": {},
   "outputs": [],
   "source": [
    "class PaperViewSet(mixins.CreateModelMixin,\n",
    "                   mixins.RetrieveModelMixin,\n",
    "                   mixins.UpdateModelMixin,\n",
    "                   mixins.DestroyModelMixin,\n",
    "                   mixins.ListModelMixin,\n",
    "                   GenericViewSet):\n",
    "    queryset = Paper.objects.all()\n",
    "    serializer_class = PaperSerializer\n",
    "\n",
    "    \n",
    "    # если стандартных маршрутов недостаточно, то можно использовать декоратор action\n",
    "\n",
    "    # маршрут будет выглядеть таким образом ..../api/v1/paper/test_action/\n",
    "    @action(methods=['get'], detail=False)\n",
    "    def categories(self, request): # вывод всех категорий\n",
    "        cats = Categories.objects.all()\n",
    "        return Response({\"cats\": [c.name for c in cats]})\n",
    "    \n",
    "    @action(methods=['get'], detail=True) # вывод определенной категории по идентификатору \n",
    "    # если detail=True значит выводится 1 запись\n",
    "    def category(self, request, pk=None):\n",
    "        cats = Paper.objects.get(pk=pk)\n",
    "        return Response({'cat': cats.name})"
   ]
  },
  {
   "cell_type": "code",
   "execution_count": 38,
   "id": "4c95f955",
   "metadata": {},
   "outputs": [],
   "source": [
    "# Если по маршруту ...api/v1/paper/ мы хотим возвращать какую-то часть данных или хотим сделать сложную группировку то можно \n",
    "# переопределить метод get_queryset\n",
    "\n",
    "class PaperViewSet(mixins.CreateModelMixin,\n",
    "                   mixins.RetrieveModelMixin,\n",
    "                   mixins.UpdateModelMixin,\n",
    "                   mixins.DestroyModelMixin,\n",
    "                   mixins.ListModelMixin,\n",
    "                   GenericViewSet):\n",
    "    # queryset = Paper.objects.all() теперь этот атрибут не нужен, поскольку у нас есть get_queryset\n",
    "    serializer_class = PaperSerializer\n",
    "\n",
    "    \n",
    "    def get_queryset(self):\n",
    "        pk = self.kwargs.get('pk')\n",
    "        if not pk:\n",
    "            return Paper.objects.all() # возвращаем только первые 2 записи из таблицы\n",
    "        return Paper.objects.filter(pk=pk)\n",
    "\n",
    "    \n",
    "    # если стандартных маршрутов недостаточно, то можно использовать декоратор action\n",
    "    # маршрут будет выглядеть таким образом ..../api/v1/paper/test_action/\n",
    "    @action(methods=['get'], detail=False)\n",
    "    def categories(self, request): # вывод всех категорий\n",
    "        cats = Categories.objects.all()\n",
    "        return Response({\"cats\": [c.name for c in cats]})\n",
    "    \n",
    "    @action(methods=['get'], detail=True) # вывод определенной категории по идентификатору \n",
    "    # если detail=True значит выводится 1 запись\n",
    "    def category(self, request, pk=None):\n",
    "        cats = Paper.objects.get(pk=pk)\n",
    "        return Response({'cat': cats.name})"
   ]
  },
  {
   "cell_type": "markdown",
   "id": "f9b843b8",
   "metadata": {},
   "source": [
    "Роутер в Django - это набор правил, которые определяют, \n",
    "как URL-адреса должны быть разбиты на компоненты и как они должны быть переданы в функции представления.\n",
    "Роутеры используются для обработки запросов к веб-приложению Django.\n",
    "\n",
    "1. Route - объект, который описывает обычный маршрут (не action) с методами list и retrieve.\n",
    "2. url - шаблон URL для маршрута, в котором можно использовать переменные, обозначенные фигурными скобками.\n",
    "3. mapping - словарь, который связывает метод HTTP с методом APIView.\n",
    "4. name - имя маршрута, которое можно использовать для генерации URL.\n",
    "5. detail - определяет, является ли маршрут детальным (с переменной в URL) или нет.\n",
    "6. initkwargs - дополнительные аргументы, которые будут переданы в конструктор APIView.\n",
    "\n",
    "3. DynamicRoute - объект, который описывает динамический маршрут (со своим URL-паттерном).\n",
    "4. url - шаблон URL для маршрута, в котором можно использовать переменные, обозначенные фигурными скобками.\n",
    "5. name - имя маршрута, которое можно использовать для генерации URL.\n",
    "6. detail - определяет, является ли маршрут детальным (с переменной в URL) или нет.\n",
    "7. initkwargs - дополнительные аргументы, которые будут переданы в конструктор APIView."
   ]
  },
  {
   "cell_type": "code",
   "execution_count": 40,
   "id": "7c0cccbb",
   "metadata": {},
   "outputs": [],
   "source": [
    "from rest_framework.routers import DefaultRouter, Route, DynamicRoute\n",
    "class TestRouter(DefaultRouter):\n",
    "    routes = [\n",
    "        Route(\n",
    "            url=r'^{prefix}{trailing_slash}$',\n",
    "            mapping={'get': 'list'},\n",
    "            name='{basename}-list',\n",
    "            detail=False,\n",
    "            initkwargs={'suffix': 'List'}\n",
    "        ),\n",
    "        Route(\n",
    "            url=r'^{prefix}/{lookup}{trailing_slash}$',\n",
    "            mapping={'get': 'retrieve'},\n",
    "            name='{basename}-detail',\n",
    "            detail=True,\n",
    "            initkwargs={'suffix': 'Detail'}\n",
    "        ),\n",
    "        DynamicRoute(\n",
    "            url=r'^{prefix}/{lookup}/{url_path}{trailing_slash}$',\n",
    "            name='{basename}-{url_name}',\n",
    "            detail=True,\n",
    "            initkwargs={}\n",
    "        )\n",
    "    ]"
   ]
  }
 ],
 "metadata": {
  "kernelspec": {
   "display_name": "Django Shell-Plus",
   "language": "python",
   "name": "django_extensions"
  },
  "language_info": {
   "codemirror_mode": {
    "name": "ipython",
    "version": 3
   },
   "file_extension": ".py",
   "mimetype": "text/x-python",
   "name": "python",
   "nbconvert_exporter": "python",
   "pygments_lexer": "ipython3",
   "version": "3.10.1"
  }
 },
 "nbformat": 4,
 "nbformat_minor": 5
}
