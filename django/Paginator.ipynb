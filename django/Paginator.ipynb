{
 "cells": [
  {
   "cell_type": "code",
   "execution_count": 1,
   "id": "b840d1c4",
   "metadata": {},
   "outputs": [],
   "source": [
    "# fix notebook\n",
    "\n",
    "import os, django\n",
    "os.environ.setdefault('DJANGO_SETTINGS_MODULE', 'rest.settings')\n",
    "os.environ[\"DJANGO_ALLOW_ASYNC_UNSAFE\"] = \"true\"\n",
    "django.setup()"
   ]
  },
  {
   "cell_type": "code",
   "execution_count": 2,
   "id": "ddf6b8c5",
   "metadata": {},
   "outputs": [],
   "source": [
    "from django.core.paginator import Paginator"
   ]
  },
  {
   "cell_type": "code",
   "execution_count": 5,
   "id": "11607bc9",
   "metadata": {},
   "outputs": [],
   "source": [
    "some_list = [str(x ** 2) for x in range(100)]"
   ]
  },
  {
   "cell_type": "code",
   "execution_count": 6,
   "id": "ca813ef7",
   "metadata": {},
   "outputs": [],
   "source": [
    "p = Paginator(some_list, 3)"
   ]
  },
  {
   "cell_type": "code",
   "execution_count": 7,
   "id": "ef0b73ba",
   "metadata": {},
   "outputs": [
    {
     "data": {
      "text/plain": [
       "100"
      ]
     },
     "execution_count": 7,
     "metadata": {},
     "output_type": "execute_result"
    }
   ],
   "source": [
    "p.count"
   ]
  },
  {
   "cell_type": "code",
   "execution_count": 8,
   "id": "ca1f0ad1",
   "metadata": {},
   "outputs": [
    {
     "data": {
      "text/plain": [
       "34"
      ]
     },
     "execution_count": 8,
     "metadata": {},
     "output_type": "execute_result"
    }
   ],
   "source": [
    "p.num_pages"
   ]
  },
  {
   "cell_type": "code",
   "execution_count": 9,
   "id": "5872624a",
   "metadata": {},
   "outputs": [
    {
     "data": {
      "text/plain": [
       "range(1, 35)"
      ]
     },
     "execution_count": 9,
     "metadata": {},
     "output_type": "execute_result"
    }
   ],
   "source": [
    "p.page_range"
   ]
  },
  {
   "cell_type": "code",
   "execution_count": 10,
   "id": "376f57ef",
   "metadata": {},
   "outputs": [],
   "source": [
    "# \n",
    "p1 = p.page(1)"
   ]
  },
  {
   "cell_type": "code",
   "execution_count": 11,
   "id": "cf10ed49",
   "metadata": {},
   "outputs": [
    {
     "data": {
      "text/plain": [
       "['0',\n",
       " '1',\n",
       " '4',\n",
       " '9',\n",
       " '16',\n",
       " '25',\n",
       " '36',\n",
       " '49',\n",
       " '64',\n",
       " '81',\n",
       " '100',\n",
       " '121',\n",
       " '144',\n",
       " '169',\n",
       " '196',\n",
       " '225',\n",
       " '256',\n",
       " '289',\n",
       " '324',\n",
       " '361',\n",
       " '400',\n",
       " '441',\n",
       " '484',\n",
       " '529',\n",
       " '576',\n",
       " '625',\n",
       " '676',\n",
       " '729',\n",
       " '784',\n",
       " '841',\n",
       " '900',\n",
       " '961',\n",
       " '1024',\n",
       " '1089',\n",
       " '1156',\n",
       " '1225',\n",
       " '1296',\n",
       " '1369',\n",
       " '1444',\n",
       " '1521',\n",
       " '1600',\n",
       " '1681',\n",
       " '1764',\n",
       " '1849',\n",
       " '1936',\n",
       " '2025',\n",
       " '2116',\n",
       " '2209',\n",
       " '2304',\n",
       " '2401',\n",
       " '2500',\n",
       " '2601',\n",
       " '2704',\n",
       " '2809',\n",
       " '2916',\n",
       " '3025',\n",
       " '3136',\n",
       " '3249',\n",
       " '3364',\n",
       " '3481',\n",
       " '3600',\n",
       " '3721',\n",
       " '3844',\n",
       " '3969',\n",
       " '4096',\n",
       " '4225',\n",
       " '4356',\n",
       " '4489',\n",
       " '4624',\n",
       " '4761',\n",
       " '4900',\n",
       " '5041',\n",
       " '5184',\n",
       " '5329',\n",
       " '5476',\n",
       " '5625',\n",
       " '5776',\n",
       " '5929',\n",
       " '6084',\n",
       " '6241',\n",
       " '6400',\n",
       " '6561',\n",
       " '6724',\n",
       " '6889',\n",
       " '7056',\n",
       " '7225',\n",
       " '7396',\n",
       " '7569',\n",
       " '7744',\n",
       " '7921',\n",
       " '8100',\n",
       " '8281',\n",
       " '8464',\n",
       " '8649',\n",
       " '8836',\n",
       " '9025',\n",
       " '9216',\n",
       " '9409',\n",
       " '9604',\n",
       " '9801']"
      ]
     },
     "execution_count": 11,
     "metadata": {},
     "output_type": "execute_result"
    }
   ],
   "source": [
    "# получение объектов первой страницы\n",
    "p.object_list"
   ]
  },
  {
   "cell_type": "code",
   "execution_count": 13,
   "id": "4f609b91",
   "metadata": {},
   "outputs": [
    {
     "data": {
      "text/plain": [
       "<bound method Page.has_next of <Page 1 of 34>>"
      ]
     },
     "execution_count": 13,
     "metadata": {},
     "output_type": "execute_result"
    }
   ],
   "source": [
    "# проверка существования следующей страницы\n",
    "p1.has_next"
   ]
  },
  {
   "cell_type": "code",
   "execution_count": 14,
   "id": "c5e6bd33",
   "metadata": {
    "scrolled": true
   },
   "outputs": [
    {
     "data": {
      "text/plain": [
       "False"
      ]
     },
     "execution_count": 14,
     "metadata": {},
     "output_type": "execute_result"
    }
   ],
   "source": [
    "# проверка существования предыдущей страницы\n",
    "p1.has_previous() # нулевой страницы нет поэтому false"
   ]
  },
  {
   "cell_type": "code",
   "execution_count": 15,
   "id": "ba9dceed",
   "metadata": {},
   "outputs": [
    {
     "data": {
      "text/plain": [
       "True"
      ]
     },
     "execution_count": 15,
     "metadata": {},
     "output_type": "execute_result"
    }
   ],
   "source": [
    "# проверка разбивки страницы\n",
    "p1.has_other_pages()"
   ]
  },
  {
   "cell_type": "code",
   "execution_count": 16,
   "id": "e909f01e",
   "metadata": {},
   "outputs": [
    {
     "data": {
      "text/plain": [
       "2"
      ]
     },
     "execution_count": 16,
     "metadata": {},
     "output_type": "execute_result"
    }
   ],
   "source": [
    "p1.next_page_number() # получить номер следующей страницы"
   ]
  },
  {
   "cell_type": "code",
   "execution_count": 18,
   "id": "76f512db",
   "metadata": {},
   "outputs": [
    {
     "data": {
      "text/plain": [
       "<bound method Page.previous_page_number of <Page 1 of 34>>"
      ]
     },
     "execution_count": 18,
     "metadata": {},
     "output_type": "execute_result"
    }
   ],
   "source": [
    "p1.previous_page_number"
   ]
  }
 ],
 "metadata": {
  "kernelspec": {
   "display_name": "Django Shell-Plus",
   "language": "python",
   "name": "django_extensions"
  },
  "language_info": {
   "codemirror_mode": {
    "name": "ipython",
    "version": 3
   },
   "file_extension": ".py",
   "mimetype": "text/x-python",
   "name": "python",
   "nbconvert_exporter": "python",
   "pygments_lexer": "ipython3",
   "version": "3.10.1"
  }
 },
 "nbformat": 4,
 "nbformat_minor": 5
}
