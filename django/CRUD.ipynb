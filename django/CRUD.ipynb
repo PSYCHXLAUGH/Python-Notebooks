{
 "cells": [
  {
   "cell_type": "code",
   "execution_count": 35,
   "id": "e519f446",
   "metadata": {},
   "outputs": [],
   "source": [
    "# fix django notebook\n",
    "\n",
    "import os, django\n",
    "os.environ.setdefault('DJANGO_SETTINGS_MODULE', 'rest.settings')\n",
    "os.environ[\"DJANGO_ALLOW_ASYNC_UNSAFE\"] = \"true\"\n",
    "django.setup()\n",
    "\n",
    "\n",
    "# CRUD - Create Read Update Delete\n",
    "# работа с моделями\n",
    "\n",
    "# использоваться будет ORM django, поскольку таким образом мы не будем привязаны к одной СУБД"
   ]
  },
  {
   "cell_type": "code",
   "execution_count": 2,
   "id": "1a1b8fbe",
   "metadata": {},
   "outputs": [
    {
     "data": {
      "text/plain": [
       "'\\nclass Example(models.Model):\\n    row1 = models..\\n    row2 = models...\\n'"
      ]
     },
     "execution_count": 2,
     "metadata": {},
     "output_type": "execute_result"
    }
   ],
   "source": [
    "# row1, row2 в данном случае будут являються столбцами в базе\n",
    "'''\n",
    "class Example(models.Model):\n",
    "    row1 = models..\n",
    "    row2 = models...\n",
    "'''\n",
    "# также есть возможность открыть интерактивно консоль django чтобы протестировать возможности ORM\n",
    "# python manage.py shell"
   ]
  },
  {
   "cell_type": "code",
   "execution_count": 11,
   "id": "ae11fe25",
   "metadata": {},
   "outputs": [],
   "source": [
    "\n",
    "Paper.objects.filter(pk__gt=17).order_by('title')\n",
    "\n",
    "# импортируем модель из проекта\n",
    "# изначально у нас есть созданное приложение paper в нем есть файл models.py\n",
    "# в данном файле лежит наша модель, которую мы сейчас импортируем\n",
    "\n",
    "from paper.models import Paper"
   ]
  },
  {
   "cell_type": "code",
   "execution_count": 5,
   "id": "feced2a6",
   "metadata": {},
   "outputs": [],
   "source": [
    "x = Paper(title=\"helloworld\", slug=\"worldworld\")"
   ]
  },
  {
   "cell_type": "code",
   "execution_count": 7,
   "id": "e287be70",
   "metadata": {},
   "outputs": [
    {
     "name": "stdout",
     "output_type": "stream",
     "text": [
      "[]\n"
     ]
    }
   ],
   "source": [
    "# Казалось бы, должен был бы быть запрос к базе, но это не так\n",
    "# Создание экземпляра класса еще не означает что сразу все добавится в таблицу\n",
    "# по умолчанию модели в Django - ленивые это создано для оптимизации SQL запросов (поскольку мы могли бы добавить потом еще что-то)\n",
    "# x.save() - поместит данную запись в таблицу\n",
    "from django.db import connection # модуль, который позволит нам просмотреть sql запросы\n",
    "print(connection.queries)"
   ]
  },
  {
   "cell_type": "code",
   "execution_count": 15,
   "id": "18bcbc2f",
   "metadata": {},
   "outputs": [
    {
     "name": "stdout",
     "output_type": "stream",
     "text": [
      "[{'sql': 'INSERT INTO \"paper_paper\" (\"title\", \"slug\", \"content\", \"photo\", \"time_create\", \"time_update\", \"is_published\", \"cat_id\") VALUES (\\'helloworld\\', \\'worldworld\\', \\'\\', \\'\\', \\'2023-07-17 21:42:59.300526\\', \\'2023-07-17 21:42:59.300526\\', 1, NULL) RETURNING \"paper_paper\".\"id\"', 'time': '0.016'}, {'sql': 'UPDATE \"paper_paper\" SET \"title\" = \\'helloworld\\', \"slug\" = \\'worldworld\\', \"content\" = \\'\\', \"photo\" = \\'\\', \"time_create\" = \\'2023-07-17 21:42:59.300526\\', \"time_update\" = \\'2023-07-17 22:05:34.254255\\', \"is_published\" = 1, \"cat_id\" = NULL WHERE \"paper_paper\".\"id\" = 20', 'time': '0.000'}, {'sql': 'UPDATE \"paper_paper\" SET \"title\" = \\'helloworld\\', \"slug\" = \\'worldworld\\', \"content\" = \\'\\', \"photo\" = \\'\\', \"time_create\" = \\'2023-07-17 21:42:59.300526\\', \"time_update\" = \\'2023-07-17 22:06:14.826806\\', \"is_published\" = 1, \"cat_id\" = NULL WHERE \"paper_paper\".\"id\" = 20', 'time': '0.016'}]\n"
     ]
    }
   ],
   "source": [
    "x.save()\n",
    "print(connection.queries)"
   ]
  },
  {
   "cell_type": "code",
   "execution_count": 17,
   "id": "d6c6386e",
   "metadata": {},
   "outputs": [
    {
     "name": "stdout",
     "output_type": "stream",
     "text": [
      "True\n"
     ]
    }
   ],
   "source": [
    "# Помимо стандартных атрибутов есть еще атрибут pk который совпадает с значением id\n",
    "print(x.pk is x.id)"
   ]
  },
  {
   "cell_type": "code",
   "execution_count": 18,
   "id": "772af2fb",
   "metadata": {},
   "outputs": [
    {
     "name": "stdout",
     "output_type": "stream",
     "text": [
      "[{'sql': 'INSERT INTO \"paper_paper\" (\"title\", \"slug\", \"content\", \"photo\", \"time_create\", \"time_update\", \"is_published\", \"cat_id\") VALUES (\\'helloworld\\', \\'worldworld\\', \\'\\', \\'\\', \\'2023-07-17 21:42:59.300526\\', \\'2023-07-17 21:42:59.300526\\', 1, NULL) RETURNING \"paper_paper\".\"id\"', 'time': '0.016'}, {'sql': 'UPDATE \"paper_paper\" SET \"title\" = \\'helloworld\\', \"slug\" = \\'worldworld\\', \"content\" = \\'\\', \"photo\" = \\'\\', \"time_create\" = \\'2023-07-17 21:42:59.300526\\', \"time_update\" = \\'2023-07-17 22:05:34.254255\\', \"is_published\" = 1, \"cat_id\" = NULL WHERE \"paper_paper\".\"id\" = 20', 'time': '0.000'}, {'sql': 'UPDATE \"paper_paper\" SET \"title\" = \\'helloworld\\', \"slug\" = \\'worldworld\\', \"content\" = \\'\\', \"photo\" = \\'\\', \"time_create\" = \\'2023-07-17 21:42:59.300526\\', \"time_update\" = \\'2023-07-17 22:06:14.826806\\', \"is_published\" = 1, \"cat_id\" = NULL WHERE \"paper_paper\".\"id\" = 20', 'time': '0.016'}, {'sql': 'INSERT INTO \"paper_paper\" (\"title\", \"slug\", \"content\", \"photo\", \"time_create\", \"time_update\", \"is_published\", \"cat_id\") VALUES (\\'one\\', \\'\\', \\'about\\', \\'\\', \\'2023-07-17 22:10:42.535349\\', \\'2023-07-17 22:10:42.535349\\', 1, NULL) RETURNING \"paper_paper\".\"id\"', 'time': '0.000'}]\n"
     ]
    }
   ],
   "source": [
    "# еще один способ создания записи в таблицу\n",
    "y = Paper()\n",
    "y.title = 'one'\n",
    "y.content = 'about'\n",
    "y.save()\n",
    "print(connection.queries)"
   ]
  },
  {
   "cell_type": "code",
   "execution_count": 19,
   "id": "d8b55599",
   "metadata": {},
   "outputs": [
    {
     "data": {
      "text/plain": [
       "<django.db.models.manager.Manager at 0x20aad2db460>"
      ]
     },
     "execution_count": 19,
     "metadata": {},
     "output_type": "execute_result"
    }
   ],
   "source": [
    "# Каждый класс модели содержит специальный статический объект - objects\n",
    "# данный класс берется из базовго класса модели Model и представляет ссылку на специальный класс менеджер\n",
    "Paper.objects"
   ]
  },
  {
   "cell_type": "code",
   "execution_count": 21,
   "id": "2aafce4f",
   "metadata": {},
   "outputs": [
    {
     "name": "stdout",
     "output_type": "stream",
     "text": [
      "5\n",
      "6\n"
     ]
    }
   ],
   "source": [
    "# у данного менеджера есть много полезных методов\n",
    "# начнем с метода CREATE\n",
    "\n",
    "print(len(connection.queries))\n",
    "\n",
    "Paper.objects.create(title='helloer', slug='da', content='worlder') # выполняя данную строчку у нас запись сразу попадает в базу данных\n",
    "\n",
    "print(len(connection.queries))"
   ]
  },
  {
   "cell_type": "code",
   "execution_count": 22,
   "id": "fabbb5e5",
   "metadata": {},
   "outputs": [
    {
     "data": {
      "text/plain": [
       "<QuerySet [<Paper: helloer>, <Paper: one>, <Paper: helloworld>, <Paper: onemore>, <Paper: покамир>, <Paper: приветмир>]>"
      ]
     },
     "execution_count": 22,
     "metadata": {},
     "output_type": "execute_result"
    }
   ],
   "source": [
    "# выбрать все записи из таблицы\n",
    "Paper.objects.all()"
   ]
  },
  {
   "cell_type": "code",
   "execution_count": 23,
   "id": "5d8688cd",
   "metadata": {},
   "outputs": [
    {
     "data": {
      "text/plain": [
       "<QuerySet [<Paper: helloer>]>"
      ]
     },
     "execution_count": 23,
     "metadata": {},
     "output_type": "execute_result"
    }
   ],
   "source": [
    "# выбрать все записи где title = \"helloer\"\n",
    "Paper.objects.filter(title='helloer')"
   ]
  },
  {
   "cell_type": "code",
   "execution_count": 24,
   "id": "abbcce94",
   "metadata": {},
   "outputs": [],
   "source": [
    "# Задача: выбрать все атрибуты у которых id или pk (тоже самое) равны двум\n",
    "\n",
    "# в django для этого нужно добавлять к базовым атрибутам следующие суффиксы\n",
    "# attr__gte - >=\n",
    "# attr__lte - <="
   ]
  },
  {
   "cell_type": "code",
   "execution_count": 26,
   "id": "19319f96",
   "metadata": {},
   "outputs": [
    {
     "data": {
      "text/plain": [
       "<QuerySet [<Paper: helloer>, <Paper: one>, <Paper: helloworld>, <Paper: onemore>, <Paper: покамир>, <Paper: приветмир>]>"
      ]
     },
     "execution_count": 26,
     "metadata": {},
     "output_type": "execute_result"
    }
   ],
   "source": [
    "# выбрать все записи, которые не соответствуют критерию id = 1\n",
    "\n",
    "Paper.objects.exclude(pk=1)"
   ]
  },
  {
   "cell_type": "code",
   "execution_count": 29,
   "id": "e615a88d",
   "metadata": {},
   "outputs": [
    {
     "data": {
      "text/plain": [
       "<Paper: приветмир>"
      ]
     },
     "execution_count": 29,
     "metadata": {},
     "output_type": "execute_result"
    }
   ],
   "source": [
    "# получить только одну запись из таблицы\n",
    "Paper.objects.get(pk=17)"
   ]
  },
  {
   "cell_type": "code",
   "execution_count": 32,
   "id": "826c0e4e",
   "metadata": {},
   "outputs": [
    {
     "data": {
      "text/plain": [
       "<QuerySet [<Paper: helloer>, <Paper: helloworld>, <Paper: one>, <Paper: onemore>, <Paper: покамир>]>"
      ]
     },
     "execution_count": 32,
     "metadata": {},
     "output_type": "execute_result"
    }
   ],
   "source": [
    "# Сортировка записей по определенному полю\n",
    "Paper.objects.filter(pk__gt=17).order_by('title')"
   ]
  },
  {
   "cell_type": "code",
   "execution_count": 34,
   "id": "ccc37833",
   "metadata": {},
   "outputs": [
    {
     "data": {
      "text/plain": [
       "<QuerySet [<Paper: покамир>, <Paper: onemore>, <Paper: one>, <Paper: helloworld>, <Paper: helloer>]>"
      ]
     },
     "execution_count": 34,
     "metadata": {},
     "output_type": "execute_result"
    }
   ],
   "source": [
    "# обратный порядок сортировки записей относительно поля title\n",
    "Paper.objects.filter(pk__gt=17).order_by('-title')\n",
    "# нужно добавить минус"
   ]
  },
  {
   "cell_type": "code",
   "execution_count": 37,
   "id": "2315bb4c",
   "metadata": {},
   "outputs": [
    {
     "data": {
      "text/plain": [
       "<Paper: покамир>"
      ]
     },
     "execution_count": 37,
     "metadata": {},
     "output_type": "execute_result"
    }
   ],
   "source": [
    "# меняем записи в базе данных\n",
    "data = Paper.objects.get(pk=18)"
   ]
  },
  {
   "cell_type": "code",
   "execution_count": 38,
   "id": "531f708b",
   "metadata": {},
   "outputs": [],
   "source": [
    "data.title = \"приветмир\""
   ]
  },
  {
   "cell_type": "code",
   "execution_count": 39,
   "id": "05cc65ac",
   "metadata": {},
   "outputs": [],
   "source": [
    "data.save()"
   ]
  },
  {
   "cell_type": "code",
   "execution_count": 40,
   "id": "5ed70908",
   "metadata": {},
   "outputs": [
    {
     "data": {
      "text/plain": [
       "<Paper: приветмир>"
      ]
     },
     "execution_count": 40,
     "metadata": {},
     "output_type": "execute_result"
    }
   ],
   "source": [
    "data"
   ]
  },
  {
   "cell_type": "code",
   "execution_count": 42,
   "id": "2270310f",
   "metadata": {},
   "outputs": [
    {
     "data": {
      "text/plain": [
       "<Paper: приветмир>"
      ]
     },
     "execution_count": 42,
     "metadata": {},
     "output_type": "execute_result"
    }
   ],
   "source": [
    "# удаляем запись из базы данных\n",
    "data = Paper.objects.get(pk=18)\n",
    "data"
   ]
  },
  {
   "cell_type": "code",
   "execution_count": 43,
   "id": "80b1783f",
   "metadata": {},
   "outputs": [
    {
     "data": {
      "text/plain": [
       "(1, {'paper.Paper': 1})"
      ]
     },
     "execution_count": 43,
     "metadata": {},
     "output_type": "execute_result"
    }
   ],
   "source": [
    "data.delete()"
   ]
  },
  {
   "cell_type": "code",
   "execution_count": null,
   "id": "74a5d2ac",
   "metadata": {},
   "outputs": [],
   "source": [
    "# (1, {'paper.Paper': 1}) нулевой элемент кортежа цифра 1 означает что мы удалили 1 запись"
   ]
  }
 ],
 "metadata": {
  "kernelspec": {
   "display_name": "Python 3 (ipykernel)",
   "language": "python",
   "name": "python3"
  },
  "language_info": {
   "codemirror_mode": {
    "name": "ipython",
    "version": 3
   },
   "file_extension": ".py",
   "mimetype": "text/x-python",
   "name": "python",
   "nbconvert_exporter": "python",
   "pygments_lexer": "ipython3",
   "version": "3.10.1"
  }
 },
 "nbformat": 4,
 "nbformat_minor": 5
}
