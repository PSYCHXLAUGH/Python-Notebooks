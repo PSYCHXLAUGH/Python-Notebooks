{
 "cells": [
  {
   "cell_type": "markdown",
   "id": "b49c937e",
   "metadata": {},
   "source": [
    "# https://www.django-rest-framework.org/api-guide/serializers/"
   ]
  },
  {
   "cell_type": "code",
   "execution_count": 120,
   "id": "178d33da",
   "metadata": {},
   "outputs": [],
   "source": [
    "import os, django\n",
    "from rest_framework import generics, viewsets\n",
    "from django.urls import path\n",
    "from rest_framework import serializers\n",
    "from rest_framework.renderers import JSONRenderer # Преобразует объект сериализации в байтовую json строку\n",
    "from rest_framework.parsers import JSONParser\n",
    "from io import BytesIO\n",
    "from rest_framework.response import Response\n",
    "from paper.models import *\n",
    "from django.http import QueryDict"
   ]
  },
  {
   "cell_type": "code",
   "execution_count": 2,
   "id": "f6c7db50",
   "metadata": {},
   "outputs": [],
   "source": [
    "# fix notebook\n",
    "os.environ.setdefault('DJANGO_SETTINGS_MODULE', 'rest.settings')\n",
    "os.environ[\"DJANGO_ALLOW_ASYNC_UNSAFE\"] = \"true\"\n",
    "django.setup()"
   ]
  },
  {
   "cell_type": "code",
   "execution_count": 3,
   "id": "57f897a4",
   "metadata": {},
   "outputs": [],
   "source": [
    "class TestModel:\n",
    "    '''имитация модели фреймворка django'''\n",
    "    def __init__(self, title, content):\n",
    "        self.title = title\n",
    "        self.content = content"
   ]
  },
  {
   "cell_type": "code",
   "execution_count": 4,
   "id": "31da279b",
   "metadata": {},
   "outputs": [],
   "source": [
    "class TestSerializer(serializers.Serializer):\n",
    "    '''\n",
    "    сериализатор для TestModel\n",
    "    * в классе сериализатора должны совпадать атрибуты класса с атрибутами экземпляра класса TestModel *\n",
    "    '''\n",
    "    # внутри charfield можно написать условия для сериализатора по которым будет проверяться поле title в json запросe\n",
    "    title = serializers.CharField() # даем понять сериализатору что в данном атрибуте ожидается строка\n",
    "    content = serializers.CharField() # на уровне сериализаторов строка и текст представляются одним и тем же классом"
   ]
  },
  {
   "cell_type": "code",
   "execution_count": 76,
   "id": "c66de220",
   "metadata": {},
   "outputs": [
    {
     "name": "stdout",
     "output_type": "stream",
     "text": [
      "Сериализованные данные 'модели' TestModel -> {'title': 'some_title', 'content': 'some_content'}\n"
     ]
    },
    {
     "data": {
      "text/plain": [
       "b'{\"title\":\"some_title\",\"content\":\"some_content\"}'"
      ]
     },
     "execution_count": 76,
     "metadata": {},
     "output_type": "execute_result"
    }
   ],
   "source": [
    "# кодирование и преобразование класса TestModel в json формат\n",
    "\n",
    "# создаем экземпляр класса\n",
    "model = TestModel(\"some_title\", \"some_content\")\n",
    "\n",
    "# далее нам нужно пропустить только что созданный объект через сериализатор TestSerializer\n",
    "model_sr = TestSerializer(model) # объект сериализатора. Здесь срабатывает метакласс который определен для сериализаторов\n",
    "# метакласс model_sr создает специальную коллекцию data состоящую из значений локальных атрибутов объекта model\n",
    "# и представляет его в виде словаря\n",
    "\n",
    "print(f\"Сериализованные данные 'модели' TestModel -> {model_sr.data}\") # model_sr.data - сериализованные данные\n",
    "JSONRenderer().render(model_sr.data) # готовый результат. Модель преобразована в байтовую json строку"
   ]
  },
  {
   "cell_type": "code",
   "execution_count": 6,
   "id": "1b1ffc6b",
   "metadata": {},
   "outputs": [
    {
     "name": "stdout",
     "output_type": "stream",
     "text": [
      "OrderedDict([('title', 'hell'), ('content', 'conten')])\n"
     ]
    }
   ],
   "source": [
    "# Обратное преобразования JSON строки в объект класса TestModel\n",
    "\n",
    "# имитация поступления запроса от клиента\n",
    "stream = BytesIO(b' {\"title\": \"hell\", \"content\": \"conten\"} ')\n",
    "data = JSONParser().parse(stream)\n",
    "serializer = TestSerializer(data=data) # получаем объект сериализации\n",
    "\n",
    "# проверяем корректность принятых данных\n",
    "serializer.is_valid()\n",
    "\n",
    "print(serializer.validated_data) # появляется после проверки serializer.is_valid()"
   ]
  },
  {
   "cell_type": "code",
   "execution_count": 7,
   "id": "9e8e1d0a",
   "metadata": {},
   "outputs": [],
   "source": [
    "# OrderedDict([('title', 'hell'), ('content', 'conten')])\n",
    "# Теперь с помощью этих данных мы можем создать класс TestModel"
   ]
  },
  {
   "cell_type": "code",
   "execution_count": 65,
   "id": "9f9cc6bd",
   "metadata": {},
   "outputs": [],
   "source": [
    "# Модель Paper, которая прописана в проекте https://github.com/wizemiller/World-Wide-Blog/blob/main/paper/models.py#L9\n",
    "# class Paper(models.Model):\n",
    "#     title = models.CharField(max_length=255)\n",
    "#     slug = models.SlugField(max_length=255, unique=True, db_index=True)\n",
    "#     content = models.TextField(blank=True)\n",
    "#     photo = models.ImageField(upload_to=\"photos/%Y/%m/%d/\", default=None)\n",
    "#     time_create = models.DateTimeField(auto_now_add=True)\n",
    "#     time_update = models.DateTimeField(auto_now=True)\n",
    "#     is_published = models.BooleanField(default=True)\n",
    "#     cat = models.ForeignKey('Categories', on_delete=models.PROTECT, null=True)\n",
    "\n",
    "# Сериализатор для модели Paper\n",
    "\n",
    "class PaperSerializer(serializers.Serializer):\n",
    "    '''Определение класса сериализатора PaperSerializer, который наследуется от класса Serializer.'''\n",
    "    \n",
    "    \n",
    "    # Все что тут описано, это валидаторы\n",
    "    \n",
    "    # read_only - заглушка для валидатора. Данное поле будет в качестве чтения\n",
    "    \n",
    "    # Определение поля title как CharField с максимальной длиной 255 символов.\n",
    "    title = serializers.CharField(max_length=255)\n",
    "\n",
    "    # Определение поля slug как SlugField с максимальной длиной 255 символов и разрешением пустого значения.\n",
    "    slug = serializers.SlugField(max_length=255, allow_blank=True)\n",
    "    \n",
    "    # Определение поля content как CharField с возможностью отсутствия значения.\n",
    "    content = serializers.CharField(required=False)\n",
    "    \n",
    "    # Определение поля photo как ImageField с возможностью отсутствия значения.\n",
    "    photo = serializers.ImageField(required=False, read_only=True)\n",
    "    \n",
    "    # Определение поля time_create как DateTimeField только для чтения.\n",
    "    time_create = serializers.DateTimeField(read_only=True)\n",
    "    \n",
    "    # Определение поля time_update как DateTimeField только для чтения.\n",
    "    time_update = serializers.DateTimeField(read_only=True)\n",
    "    \n",
    "    # Определение поля is_published как BooleanField со значением по умолчанию True.\n",
    "    is_published = serializers.BooleanField(default=True)\n",
    "    \n",
    "    # Определение поля cat как PrimaryKeyRelatedField с возможностью отсутствия значения и связью с моделью Categories.\n",
    "    cat = serializers.PrimaryKeyRelatedField(queryset=Categories.objects.all(), required=False)\n",
    "\n",
    "    \n",
    "    # Методы create и update будут выбираться по такому принципу\n",
    "    # PaperSerializer(data=request.data, instance=Model_object like Paper.objects.get(pk=pk)) --> update\n",
    "    # PaperSerializer(data=request.data) --> create\n",
    "    \n",
    "    def create(self, validated_data): # для добавления записи в бд вызывается через метод save()\n",
    "        '''Когда мы вызываем is_validate у нас генерируется словарь validated_data'''\n",
    "        return Paper.objects.create(**validated_data)\n",
    "\n",
    "    def update(self, instance, validated_data):\n",
    "        # instance - ссылка на объект Paper\n",
    "        # validated_data - словарь из проверенных данных которые нужно изменить в базе данных\n",
    "        instance.title = validated_data.get('title', instance.title)\n",
    "        instance.slug = validated_data.get('slug', instance.slug)\n",
    "        instance.content = validated_data.get('content', instance.content)\n",
    "        instance.photo = validated_data.get('photo', instance.photo)\n",
    "        instance.is_published = validated_data.get('is_published', instance.is_published)\n",
    "        instance.cat = validated_data.get('cat', instance.cat)\n",
    "        instance.save()\n",
    "        return instance"
   ]
  },
  {
   "cell_type": "code",
   "execution_count": 9,
   "id": "36690042",
   "metadata": {},
   "outputs": [
    {
     "data": {
      "text/plain": [
       "{'posts': [OrderedDict([('title', 'stateman2'), ('slug', 'hellman'), ('content', 'kasjeklfjaseklgjlasjfkljas'), ('photo', '/media/photos/2023/08/12/Screenshot_14.png'), ('time_create', '2023-08-12T10:12:43.140047+03:00'), ('time_update', '2023-08-12T10:12:43.140047+03:00'), ('is_published', True), ('cat', 1)]), OrderedDict([('title', 'stateman'), ('slug', 'slugger'), ('content', 'ausehjgkalsejgiou2h3giolj2k3lgejsalkjg;askjefasef'), ('photo', '/media/photos/2023/08/12/Screenshot_4.png'), ('time_create', '2023-08-12T10:12:01.045301+03:00'), ('time_update', '2023-08-12T10:12:01.045301+03:00'), ('is_published', True), ('cat', 1)])]}"
      ]
     },
     "execution_count": 9,
     "metadata": {},
     "output_type": "execute_result"
    }
   ],
   "source": [
    "# Возвращаем данные клиенту\n",
    "\n",
    "items = Paper.objects.all() # формируется список объектов класса Paper\n",
    "# Поскольку тут используется список записей мы добавим many=True\n",
    "Response({\"posts\": PaperSerializer(items, many=True).data}).data\n",
    "# response преобразовывает все в байтовую json строку по сути тоже самое что и JSONRenderer\n",
    "# Здесь все происходит тоже самое что и когда мы делали \"кодирование и преобразование класса TestModel в json формат\""
   ]
  },
  {
   "cell_type": "code",
   "execution_count": 75,
   "id": "3cead398",
   "metadata": {},
   "outputs": [
    {
     "data": {
      "text/plain": [
       "True"
      ]
     },
     "execution_count": 75,
     "metadata": {},
     "output_type": "execute_result"
    }
   ],
   "source": [
    "# Клиент отправляет данные через post запрос и хочет добавить статью на сайте\n",
    "\n",
    "# curl -X POST --data 'title=apistate&slug=apistateslug&content=helloworld&cat=1' http://127.0.0.1:8000/api/v1/paper\n",
    "\n",
    "request = QueryDict(\n",
    "    'title=apistate&slug=apistateslug&content=helloworld&cat=1'\n",
    ")\n",
    "\n",
    "serializer = PaperSerializer(data=request)\n",
    "serializer.is_valid(raise_exception=True) # raise_excepiton для клиента, если он не направил все нужные данные в теле запроса\n",
    "\n",
    "# Paper.objects.create(title=request['title'].....) # после валидации данных мы можем добавлять запись в БД"
   ]
  },
  {
   "cell_type": "markdown",
   "id": "e974412e",
   "metadata": {},
   "source": [
    "Изначально мы сделали сериализатор на базе класса serializers.Serializer это довольно частая схема, поскольку он позволяет\n",
    "получать данные в json формате, изменять уже существующие записи в таблице базы данных\n",
    "для этого было использована таблица Paper и ORM Django\n",
    "сериализатор напрямую связан с таблицей базы данных это распространенная схема, поэтому для таких целей существует класс\n",
    "сериализатора serializers.ModelSerializer и значительно упрощает работу"
   ]
  },
  {
   "cell_type": "code",
   "execution_count": 77,
   "id": "e13dc407",
   "metadata": {},
   "outputs": [],
   "source": [
    "# serializers.py\n",
    "class PaperModelSerializer(serializers.ModelSerializer):\n",
    "    class Meta:\n",
    "        model = Paper\n",
    "        fields = \"__all__\" # можно выводить определенные поля через ('title', 'content', .....) мы же укажем все сразу"
   ]
  },
  {
   "cell_type": "markdown",
   "id": "b2724346",
   "metadata": {},
   "source": [
    "# Поскольку, были разработаны упрощения для сериализаторов моделей посредством класса ModelSerializer, то и для \n",
    "# Классов-представлений тоже есть свои классы для простоты\n",
    "# https://www.django-rest-framework.org/api-guide/serializers/"
   ]
  },
  {
   "cell_type": "code",
   "execution_count": 115,
   "id": "0e51188d",
   "metadata": {},
   "outputs": [],
   "source": [
    "# views.py\n",
    "\n",
    "from rest_framework import generics\n",
    "\n",
    "class PaperAPIview(generics.ListCreateAPIView): # чтение списка данных по get запросу и создание по POST\n",
    "    queryset = Paper.objects.all() # данные, которые будут возвращаться\n",
    "    serializer_class = PaperSerializer # класс сериализации который обрабатывает queryset\n",
    "\n",
    "    \n",
    "class PaperAPIview(generics.ListAPIView): # чтение списка данных по get запросу\n",
    "    queryset = Paper.objects.all() # данные, которые будут возвращаться\n",
    "    serializer_class = PaperSerializer # класс сериализации который обрабатывает queryset\n",
    "    \n",
    "    \n",
    "class PaperUpdateAPIView(generics.UpdateAPIView): # изменение записи по put, patch запросу\n",
    "    ''' tests -> curl -X PUT -d title=hello -d slug=world http://127.0.0.1:8000/api/v1/paper/7/ '''\n",
    "    queryset = Paper.objects.all() # ленивый запрос\n",
    "    serializer_class = PaperSerializer # класс сериализации который обрабатывает queryset\n",
    "    \n",
    "# CRUD - generics.RetrieveUpdateDestroyAPIView"
   ]
  },
  {
   "cell_type": "markdown",
   "id": "5a0d28a1",
   "metadata": {},
   "source": [
    "Также есть viewset чтобы каждый раз не дублировать queryset и serializer_class в классе-представлений\n",
    "[ViewSets](https://www.django-rest-framework.org/api-guide/viewsets/)"
   ]
  },
  {
   "cell_type": "code",
   "execution_count": 128,
   "id": "8fa358ef",
   "metadata": {},
   "outputs": [],
   "source": [
    "# Мы будем использовать ModelViewSet поскольку наше представление работает с моделями\n",
    "\n",
    "# views.py\n",
    "\n",
    "class PaperViewSet(viewsets.ModelViewSet):\n",
    "    queryset = Paper.objects.all()\n",
    "    serializer_class = PaperSerializer\n",
    "\n",
    "# urls.py\n",
    "'''\n",
    "list - возвращает список\n",
    "create - создает новую запись\n",
    "retrieve - выделяет запись\n",
    "update - меняет запись\n",
    "destroy - удаляет запись\n",
    "'''\n",
    "\n",
    "# вот таких маршрутов может быть множество, поэтому этот процесс автоматизирован на уровне DRF с использованием роутеров\n",
    "urlpatterns = [\n",
    "#     .....\n",
    "    path('api/v1/papers/<int:pk>/', PaperViewSet.as_view({'get': 'retrieve'}))\n",
    "#     ....\n",
    "]\n",
    "\n",
    "\n",
    "# class ModelViewSet(mixins.CreateModelMixin,\n",
    "#                    mixins.RetrieveModelMixin,\n",
    "#                    mixins.UpdateModelMixin,\n",
    "#                    mixins.DestroyModelMixin,\n",
    "#                    mixins.ListModelMixin,\n",
    "#                    GenericViewSet):\n",
    "#     \"\"\"\n",
    "#     A viewset that provides default `create()`, `retrieve()`, `update()`,\n",
    "#     `partial_update()`, `destroy()` and `list()` actions.\n",
    "#     \"\"\"\n",
    "#     pass\n",
    "\n",
    "# - CreateModelMixin - реализует метод create(), который создает новый объект модели.\n",
    "# - RetrieveModelMixin - реализует метод retrieve(), который получает объект модели по его идентификатору.\n",
    "# - UpdateModelMixin - реализует метод update(), который обновляет объект модели целиком.\n",
    "# - DestroyModelMixin - реализует метод destroy(), который удаляет объект модели.\n",
    "# - ListModelMixin - реализует метод list(), который возвращает список всех объектов модели.\n",
    "\n",
    "# GenericViewSet - это базовый класс для всех ViewSet'ов в Django REST Framework, который \n",
    "# предоставляет общую функциональность и не определяет никаких дополнительных методов."
   ]
  }
 ],
 "metadata": {
  "kernelspec": {
   "display_name": "Django Shell-Plus",
   "language": "python",
   "name": "django_extensions"
  },
  "language_info": {
   "codemirror_mode": {
    "name": "ipython",
    "version": 3
   },
   "file_extension": ".py",
   "mimetype": "text/x-python",
   "name": "python",
   "nbconvert_exporter": "python",
   "pygments_lexer": "ipython3",
   "version": "3.10.1"
  }
 },
 "nbformat": 4,
 "nbformat_minor": 5
}
