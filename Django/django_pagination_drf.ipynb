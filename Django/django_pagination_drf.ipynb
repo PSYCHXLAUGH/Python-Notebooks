{
 "cells": [
  {
   "cell_type": "markdown",
   "id": "5a7d1558",
   "metadata": {},
   "source": [
    "# Пагинация в DRF\n",
    "\n",
    "Пагинация в Django REST Framework (DRF) - это процесс разбиения большого набора данных на более мелкие части (страницы), \n",
    "чтобы улучшить производительность и удобство использования API. \n",
    "При использовании пагинации, результаты запроса к API разбиваются на страницы, каждая из которых содержит определенное \n",
    "количество объектов. Пользователь может запросить любую страницу, \n",
    "указав номер страницы в параметрах запроса. Это позволяет уменьшить нагрузку на сервер и ускорить передачу данных, \n",
    "особенно при работе с большими объемами данных.\n",
    "DRF предоставляет несколько встроенных классов пагинации, таких как \n",
    "PageNumberPagination, LimitOffsetPagination и CursorPagination. Каждый из них имеет свои особенности и может быть настроен \n",
    "под конкретные нужды проекта.\n",
    "В общем, пагинация в DRF позволяет улучшить производительность и удобство использования API, особенно при работе с большими \n",
    "объемами данных.\n",
    "[Документация](https://www.django-rest-framework.org/api-guide/pagination/)"
   ]
  },
  {
   "cell_type": "markdown",
   "id": "875ac26d",
   "metadata": {},
   "source": [
    "Чтобы добавить свою пагинацию нужно добавить следующие строчки в settings.py\n",
    "```python\n",
    "REST_FRAMEWORK = {\n",
    "    'DEFAULT_PAGINATION_CLASS': 'rest_framework.pagination.LimitOffsetPagination',\n",
    "    'PAGE_SIZE': 100\n",
    "}\n",
    "```\n"
   ]
  },
  {
   "cell_type": "markdown",
   "id": "bf8a41df",
   "metadata": {},
   "source": [
    "# Настройка пагинации для определенных api запросов свои параметры пагинации\n",
    "\n",
    "Определяем собственный класс пагинации и подключаем к представлениям\n",
    "\n",
    "[список базовых классов](https://www.django-rest-framework.org/api-guide/pagination/)"
   ]
  },
  {
   "cell_type": "markdown",
   "id": "218d40ea",
   "metadata": {},
   "source": [
    "```python\n",
    "\n",
    "class PaperPagination(pagination.PageNumberPagination):\n",
    "    page_size = 1\n",
    "    page_size_query_param = 'page_size' # параметр в get запросе который отвечает аз количество сущностей которые выдаст сервер\n",
    "    max_page_size = 1000 # ограничение на количество сущностей выдоваемых сервером за раз\n",
    "```\n",
    "\n",
    "```python\n",
    "\n",
    "class PaperAPIList(generics.ListCreateAPIView):\n",
    "    # queryset = Paper.objects.all()\n",
    "    # serializer_class = PaperSerializer\n",
    "    # permission_classes = (IsAuthenticated,)\n",
    "    # authentication_classes = (TokenAuthentication,)\n",
    "    pagination_class = PaperPagination # указываем класс пагинации\n",
    "```"
   ]
  },
  {
   "cell_type": "code",
   "execution_count": null,
   "id": "50cd823d",
   "metadata": {},
   "outputs": [],
   "source": []
  }
 ],
 "metadata": {
  "kernelspec": {
   "display_name": "Python 3 (ipykernel)",
   "language": "python",
   "name": "python3"
  },
  "language_info": {
   "codemirror_mode": {
    "name": "ipython",
    "version": 3
   },
   "file_extension": ".py",
   "mimetype": "text/x-python",
   "name": "python",
   "nbconvert_exporter": "python",
   "pygments_lexer": "ipython3",
   "version": "3.10.1"
  }
 },
 "nbformat": 4,
 "nbformat_minor": 5
}
